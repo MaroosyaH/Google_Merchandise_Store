{
  "nbformat": 4,
  "nbformat_minor": 0,
  "metadata": {
    "colab": {
      "provenance": [],
      "collapsed_sections": [
        "o_rDLthGg4fR"
      ],
      "toc_visible": true,
      "authorship_tag": "ABX9TyMxrFWsJz17c94XQIppRdmA",
      "include_colab_link": true
    },
    "kernelspec": {
      "name": "python3",
      "display_name": "Python 3"
    },
    "language_info": {
      "name": "python"
    }
  },
  "cells": [
    {
      "cell_type": "markdown",
      "metadata": {
        "id": "view-in-github",
        "colab_type": "text"
      },
      "source": [
        "<a href=\"https://colab.research.google.com/github/MaroosyaH/Google_Merchandise_Store/blob/main/%D0%9F%D0%BE%D0%BB%D1%83%D1%87%D0%B5%D0%BD%D0%B8%D0%B5_%D0%B8_%D0%BF%D0%B5%D1%80%D0%B2%D0%B8%D1%87%D0%BD%D1%8B%D0%B9_%D0%B0%D0%BD%D0%B0%D0%BB%D0%B8%D0%B7_%D0%B4%D0%B0%D0%BD%D0%BD%D1%8B%D1%85.ipynb\" target=\"_parent\"><img src=\"https://colab.research.google.com/assets/colab-badge.svg\" alt=\"Open In Colab\"/></a>"
      ]
    },
    {
      "cell_type": "markdown",
      "metadata": {
        "id": "tVUWWmJ7SQMU"
      },
      "source": [
        "# Загрузка данных из Google BigQuery"
      ]
    },
    {
      "cell_type": "code",
      "metadata": {
        "id": "67otkihEhsZj"
      },
      "source": [
        "import pandas as pd"
      ],
      "execution_count": 3,
      "outputs": []
    },
    {
      "cell_type": "code",
      "metadata": {
        "id": "7JqF1u0mufpt"
      },
      "source": [
        "import os"
      ],
      "execution_count": 4,
      "outputs": []
    },
    {
      "cell_type": "code",
      "metadata": {
        "colab": {
          "base_uri": "https://localhost:8080/"
        },
        "id": "qSYPVfP4hwer",
        "outputId": "8a8cea9a-7b05-45f5-bbf8-f050dbd7b69a"
      },
      "source": [
        "from google.colab import drive\n",
        "drive.mount('/content/drive')"
      ],
      "execution_count": 5,
      "outputs": [
        {
          "output_type": "stream",
          "name": "stdout",
          "text": [
            "Mounted at /content/drive\n"
          ]
        }
      ]
    },
    {
      "cell_type": "markdown",
      "metadata": {
        "id": "JAJAJeICzyKW"
      },
      "source": [
        "Для получения списка файлов воспользуемся методом listdir. В качестве аргумента указываем папку 'ga_BQ_data':"
      ]
    },
    {
      "cell_type": "code",
      "metadata": {
        "colab": {
          "base_uri": "https://localhost:8080/"
        },
        "id": "bdRRvtckz8Z6",
        "outputId": "689a81c4-4e7f-4f6e-ee2d-121d3316ac2f"
      },
      "source": [
        "files = os.listdir('/content/drive/MyDrive/MA_10_3/project_2/ga_BQ_data')\n",
        "files"
      ],
      "execution_count": 6,
      "outputs": [
        {
          "output_type": "execute_result",
          "data": {
            "text/plain": [
              "['Jenuary_1.csv', 'February_1.csv', 'March_1.csv', 'April_1.csv']"
            ]
          },
          "metadata": {},
          "execution_count": 6
        }
      ]
    },
    {
      "cell_type": "markdown",
      "metadata": {
        "id": "o_rDLthGg4fR"
      },
      "source": [
        "# Просмотр данных"
      ]
    },
    {
      "cell_type": "code",
      "metadata": {
        "colab": {
          "base_uri": "https://localhost:8080/",
          "height": 451
        },
        "id": "kWdey1613dLJ",
        "outputId": "ebe2cc08-7739-457f-9396-202ff482c381"
      },
      "source": [
        "Jenuary_1 = pd.read_csv('/content/drive/MyDrive/MA_10_3/project_2/ga_BQ_data/Jenuary_1.csv', parse_dates=['date'], dtype={'fullVisitorId': 'str', 'keyword': 'str'},)\n",
        "display(Jenuary_1.info())"
      ],
      "execution_count": 7,
      "outputs": [
        {
          "output_type": "stream",
          "name": "stdout",
          "text": [
            "<class 'pandas.core.frame.DataFrame'>\n",
            "RangeIndex: 1163110 entries, 0 to 1163109\n",
            "Data columns (total 17 columns):\n",
            " #   Column             Non-Null Count    Dtype         \n",
            "---  ------             --------------    -----         \n",
            " 0   fullVisitorId      1163110 non-null  object        \n",
            " 1   date               1163110 non-null  datetime64[ns]\n",
            " 2   campaign           1163110 non-null  object        \n",
            " 3   keyword            62958 non-null    object        \n",
            " 4   medium             1163110 non-null  object        \n",
            " 5   source             1163110 non-null  object        \n",
            " 6   browser            1163110 non-null  object        \n",
            " 7   deviceCategory     1163110 non-null  object        \n",
            " 8   continent          1163110 non-null  object        \n",
            " 9   country            1163110 non-null  object        \n",
            " 10  pagePath           1163110 non-null  object        \n",
            " 11  transactionId      4328 non-null     object        \n",
            " 12  productRevenue     2143 non-null     float64       \n",
            " 13  productQuantity    15142 non-null    float64       \n",
            " 14  productPrice       1163110 non-null  int64         \n",
            " 15  v2ProductCategory  1163110 non-null  object        \n",
            " 16  v2ProductName      1163110 non-null  object        \n",
            "dtypes: datetime64[ns](1), float64(2), int64(1), object(13)\n",
            "memory usage: 150.9+ MB\n"
          ]
        },
        {
          "output_type": "display_data",
          "data": {
            "text/plain": [
              "None"
            ]
          },
          "metadata": {}
        }
      ]
    },
    {
      "cell_type": "code",
      "metadata": {
        "id": "31-6zv9fquE7"
      },
      "source": [
        "Jenuary_2 = Jenuary_1\n",
        "Jenuary_2.productRevenue = Jenuary_1.productRevenue.apply(lambda x: x/1000000)\n",
        "Jenuary_2.productPrice = Jenuary_1.productPrice.apply(lambda x: x/1000000)"
      ],
      "execution_count": 8,
      "outputs": []
    },
    {
      "cell_type": "code",
      "metadata": {
        "colab": {
          "base_uri": "https://localhost:8080/",
          "height": 300
        },
        "id": "9WJarup_38SR",
        "outputId": "95e6e02c-5510-40cc-a23a-8d799c24eea9"
      },
      "source": [
        "Jenuary_2.describe()"
      ],
      "execution_count": 9,
      "outputs": [
        {
          "output_type": "execute_result",
          "data": {
            "text/plain": [
              "       productRevenue  productQuantity  productPrice\n",
              "count     2143.000000     15142.000000  1.163110e+06\n",
              "mean        49.612762         6.134394  2.662834e+01\n",
              "std         93.928111        34.490427  3.163736e+01\n",
              "min          1.311111         1.000000  0.000000e+00\n",
              "25%         12.475000         1.000000  6.990000e+00\n",
              "50%         21.323333         1.000000  1.699000e+01\n",
              "75%         51.670000         2.000000  2.499000e+01\n",
              "max       1520.810000      1996.000000  9.798600e+02"
            ],
            "text/html": [
              "\n",
              "  <div id=\"df-e5635ddc-0002-45f7-8bc3-552de0f98bd7\">\n",
              "    <div class=\"colab-df-container\">\n",
              "      <div>\n",
              "<style scoped>\n",
              "    .dataframe tbody tr th:only-of-type {\n",
              "        vertical-align: middle;\n",
              "    }\n",
              "\n",
              "    .dataframe tbody tr th {\n",
              "        vertical-align: top;\n",
              "    }\n",
              "\n",
              "    .dataframe thead th {\n",
              "        text-align: right;\n",
              "    }\n",
              "</style>\n",
              "<table border=\"1\" class=\"dataframe\">\n",
              "  <thead>\n",
              "    <tr style=\"text-align: right;\">\n",
              "      <th></th>\n",
              "      <th>productRevenue</th>\n",
              "      <th>productQuantity</th>\n",
              "      <th>productPrice</th>\n",
              "    </tr>\n",
              "  </thead>\n",
              "  <tbody>\n",
              "    <tr>\n",
              "      <th>count</th>\n",
              "      <td>2143.000000</td>\n",
              "      <td>15142.000000</td>\n",
              "      <td>1.163110e+06</td>\n",
              "    </tr>\n",
              "    <tr>\n",
              "      <th>mean</th>\n",
              "      <td>49.612762</td>\n",
              "      <td>6.134394</td>\n",
              "      <td>2.662834e+01</td>\n",
              "    </tr>\n",
              "    <tr>\n",
              "      <th>std</th>\n",
              "      <td>93.928111</td>\n",
              "      <td>34.490427</td>\n",
              "      <td>3.163736e+01</td>\n",
              "    </tr>\n",
              "    <tr>\n",
              "      <th>min</th>\n",
              "      <td>1.311111</td>\n",
              "      <td>1.000000</td>\n",
              "      <td>0.000000e+00</td>\n",
              "    </tr>\n",
              "    <tr>\n",
              "      <th>25%</th>\n",
              "      <td>12.475000</td>\n",
              "      <td>1.000000</td>\n",
              "      <td>6.990000e+00</td>\n",
              "    </tr>\n",
              "    <tr>\n",
              "      <th>50%</th>\n",
              "      <td>21.323333</td>\n",
              "      <td>1.000000</td>\n",
              "      <td>1.699000e+01</td>\n",
              "    </tr>\n",
              "    <tr>\n",
              "      <th>75%</th>\n",
              "      <td>51.670000</td>\n",
              "      <td>2.000000</td>\n",
              "      <td>2.499000e+01</td>\n",
              "    </tr>\n",
              "    <tr>\n",
              "      <th>max</th>\n",
              "      <td>1520.810000</td>\n",
              "      <td>1996.000000</td>\n",
              "      <td>9.798600e+02</td>\n",
              "    </tr>\n",
              "  </tbody>\n",
              "</table>\n",
              "</div>\n",
              "      <button class=\"colab-df-convert\" onclick=\"convertToInteractive('df-e5635ddc-0002-45f7-8bc3-552de0f98bd7')\"\n",
              "              title=\"Convert this dataframe to an interactive table.\"\n",
              "              style=\"display:none;\">\n",
              "        \n",
              "  <svg xmlns=\"http://www.w3.org/2000/svg\" height=\"24px\"viewBox=\"0 0 24 24\"\n",
              "       width=\"24px\">\n",
              "    <path d=\"M0 0h24v24H0V0z\" fill=\"none\"/>\n",
              "    <path d=\"M18.56 5.44l.94 2.06.94-2.06 2.06-.94-2.06-.94-.94-2.06-.94 2.06-2.06.94zm-11 1L8.5 8.5l.94-2.06 2.06-.94-2.06-.94L8.5 2.5l-.94 2.06-2.06.94zm10 10l.94 2.06.94-2.06 2.06-.94-2.06-.94-.94-2.06-.94 2.06-2.06.94z\"/><path d=\"M17.41 7.96l-1.37-1.37c-.4-.4-.92-.59-1.43-.59-.52 0-1.04.2-1.43.59L10.3 9.45l-7.72 7.72c-.78.78-.78 2.05 0 2.83L4 21.41c.39.39.9.59 1.41.59.51 0 1.02-.2 1.41-.59l7.78-7.78 2.81-2.81c.8-.78.8-2.07 0-2.86zM5.41 20L4 18.59l7.72-7.72 1.47 1.35L5.41 20z\"/>\n",
              "  </svg>\n",
              "      </button>\n",
              "      \n",
              "  <style>\n",
              "    .colab-df-container {\n",
              "      display:flex;\n",
              "      flex-wrap:wrap;\n",
              "      gap: 12px;\n",
              "    }\n",
              "\n",
              "    .colab-df-convert {\n",
              "      background-color: #E8F0FE;\n",
              "      border: none;\n",
              "      border-radius: 50%;\n",
              "      cursor: pointer;\n",
              "      display: none;\n",
              "      fill: #1967D2;\n",
              "      height: 32px;\n",
              "      padding: 0 0 0 0;\n",
              "      width: 32px;\n",
              "    }\n",
              "\n",
              "    .colab-df-convert:hover {\n",
              "      background-color: #E2EBFA;\n",
              "      box-shadow: 0px 1px 2px rgba(60, 64, 67, 0.3), 0px 1px 3px 1px rgba(60, 64, 67, 0.15);\n",
              "      fill: #174EA6;\n",
              "    }\n",
              "\n",
              "    [theme=dark] .colab-df-convert {\n",
              "      background-color: #3B4455;\n",
              "      fill: #D2E3FC;\n",
              "    }\n",
              "\n",
              "    [theme=dark] .colab-df-convert:hover {\n",
              "      background-color: #434B5C;\n",
              "      box-shadow: 0px 1px 3px 1px rgba(0, 0, 0, 0.15);\n",
              "      filter: drop-shadow(0px 1px 2px rgba(0, 0, 0, 0.3));\n",
              "      fill: #FFFFFF;\n",
              "    }\n",
              "  </style>\n",
              "\n",
              "      <script>\n",
              "        const buttonEl =\n",
              "          document.querySelector('#df-e5635ddc-0002-45f7-8bc3-552de0f98bd7 button.colab-df-convert');\n",
              "        buttonEl.style.display =\n",
              "          google.colab.kernel.accessAllowed ? 'block' : 'none';\n",
              "\n",
              "        async function convertToInteractive(key) {\n",
              "          const element = document.querySelector('#df-e5635ddc-0002-45f7-8bc3-552de0f98bd7');\n",
              "          const dataTable =\n",
              "            await google.colab.kernel.invokeFunction('convertToInteractive',\n",
              "                                                     [key], {});\n",
              "          if (!dataTable) return;\n",
              "\n",
              "          const docLinkHtml = 'Like what you see? Visit the ' +\n",
              "            '<a target=\"_blank\" href=https://colab.research.google.com/notebooks/data_table.ipynb>data table notebook</a>'\n",
              "            + ' to learn more about interactive tables.';\n",
              "          element.innerHTML = '';\n",
              "          dataTable['output_type'] = 'display_data';\n",
              "          await google.colab.output.renderOutput(dataTable, element);\n",
              "          const docLink = document.createElement('div');\n",
              "          docLink.innerHTML = docLinkHtml;\n",
              "          element.appendChild(docLink);\n",
              "        }\n",
              "      </script>\n",
              "    </div>\n",
              "  </div>\n",
              "  "
            ]
          },
          "metadata": {},
          "execution_count": 9
        }
      ]
    },
    {
      "cell_type": "code",
      "metadata": {
        "colab": {
          "base_uri": "https://localhost:8080/",
          "height": 451
        },
        "id": "jYU2gqSJ5Lvf",
        "outputId": "f5a0c7de-25c1-4ad3-c517-fdcf50fe1e5a"
      },
      "source": [
        "February_1 = pd.read_csv('/content/drive/MyDrive/MA_10_3/project_2/ga_BQ_data/February_1.csv', parse_dates=['date'], dtype={'fullVisitorId': 'str'})\n",
        "display(February_1.info())"
      ],
      "execution_count": 10,
      "outputs": [
        {
          "output_type": "stream",
          "name": "stdout",
          "text": [
            "<class 'pandas.core.frame.DataFrame'>\n",
            "RangeIndex: 1075169 entries, 0 to 1075168\n",
            "Data columns (total 17 columns):\n",
            " #   Column             Non-Null Count    Dtype         \n",
            "---  ------             --------------    -----         \n",
            " 0   fullVisitorId      1075169 non-null  object        \n",
            " 1   date               1075169 non-null  datetime64[ns]\n",
            " 2   campaign           1075169 non-null  object        \n",
            " 3   keyword            392942 non-null   object        \n",
            " 4   medium             1075169 non-null  object        \n",
            " 5   source             1075169 non-null  object        \n",
            " 6   browser            1075169 non-null  object        \n",
            " 7   deviceCategory     1075169 non-null  object        \n",
            " 8   continent          1075169 non-null  object        \n",
            " 9   country            1075169 non-null  object        \n",
            " 10  pagePath           1075169 non-null  object        \n",
            " 11  transactionId      4141 non-null     object        \n",
            " 12  productRevenue     2060 non-null     float64       \n",
            " 13  productQuantity    14318 non-null    float64       \n",
            " 14  productPrice       1075169 non-null  int64         \n",
            " 15  v2ProductCategory  1075169 non-null  object        \n",
            " 16  v2ProductName      1075169 non-null  object        \n",
            "dtypes: datetime64[ns](1), float64(2), int64(1), object(13)\n",
            "memory usage: 139.4+ MB\n"
          ]
        },
        {
          "output_type": "display_data",
          "data": {
            "text/plain": [
              "None"
            ]
          },
          "metadata": {}
        }
      ]
    },
    {
      "cell_type": "code",
      "metadata": {
        "id": "JXQTMheQr4uI"
      },
      "source": [
        "February_2 = February_1\n",
        "February_2.productRevenue = February_1.productRevenue.apply(lambda x: x/1000000)\n",
        "February_2.productPrice = February_1.productPrice.apply(lambda x: x/1000000)"
      ],
      "execution_count": 11,
      "outputs": []
    },
    {
      "cell_type": "code",
      "metadata": {
        "colab": {
          "base_uri": "https://localhost:8080/",
          "height": 300
        },
        "id": "yo12C-Nn5cz0",
        "outputId": "004210bf-d02c-40e9-a859-146f97f4c20d"
      },
      "source": [
        "February_2.describe()"
      ],
      "execution_count": 12,
      "outputs": [
        {
          "output_type": "execute_result",
          "data": {
            "text/plain": [
              "       productRevenue  productQuantity  productPrice\n",
              "count     2060.000000     1.431800e+04  1.075169e+06\n",
              "mean        56.455505     1.381707e+08  2.589153e+01\n",
              "std        141.843183     1.653314e+10  3.114024e+01\n",
              "min          1.642857     1.000000e+00  0.000000e+00\n",
              "25%         13.923333     1.000000e+00  6.990000e+00\n",
              "50%         24.472777     1.000000e+00  1.699000e+01\n",
              "75%         56.240000     2.000000e+00  2.499000e+01\n",
              "max       2994.250000     1.978320e+12  8.750000e+02"
            ],
            "text/html": [
              "\n",
              "  <div id=\"df-f91e12a2-0a46-4f66-8a24-e941d3e39e7d\">\n",
              "    <div class=\"colab-df-container\">\n",
              "      <div>\n",
              "<style scoped>\n",
              "    .dataframe tbody tr th:only-of-type {\n",
              "        vertical-align: middle;\n",
              "    }\n",
              "\n",
              "    .dataframe tbody tr th {\n",
              "        vertical-align: top;\n",
              "    }\n",
              "\n",
              "    .dataframe thead th {\n",
              "        text-align: right;\n",
              "    }\n",
              "</style>\n",
              "<table border=\"1\" class=\"dataframe\">\n",
              "  <thead>\n",
              "    <tr style=\"text-align: right;\">\n",
              "      <th></th>\n",
              "      <th>productRevenue</th>\n",
              "      <th>productQuantity</th>\n",
              "      <th>productPrice</th>\n",
              "    </tr>\n",
              "  </thead>\n",
              "  <tbody>\n",
              "    <tr>\n",
              "      <th>count</th>\n",
              "      <td>2060.000000</td>\n",
              "      <td>1.431800e+04</td>\n",
              "      <td>1.075169e+06</td>\n",
              "    </tr>\n",
              "    <tr>\n",
              "      <th>mean</th>\n",
              "      <td>56.455505</td>\n",
              "      <td>1.381707e+08</td>\n",
              "      <td>2.589153e+01</td>\n",
              "    </tr>\n",
              "    <tr>\n",
              "      <th>std</th>\n",
              "      <td>141.843183</td>\n",
              "      <td>1.653314e+10</td>\n",
              "      <td>3.114024e+01</td>\n",
              "    </tr>\n",
              "    <tr>\n",
              "      <th>min</th>\n",
              "      <td>1.642857</td>\n",
              "      <td>1.000000e+00</td>\n",
              "      <td>0.000000e+00</td>\n",
              "    </tr>\n",
              "    <tr>\n",
              "      <th>25%</th>\n",
              "      <td>13.923333</td>\n",
              "      <td>1.000000e+00</td>\n",
              "      <td>6.990000e+00</td>\n",
              "    </tr>\n",
              "    <tr>\n",
              "      <th>50%</th>\n",
              "      <td>24.472777</td>\n",
              "      <td>1.000000e+00</td>\n",
              "      <td>1.699000e+01</td>\n",
              "    </tr>\n",
              "    <tr>\n",
              "      <th>75%</th>\n",
              "      <td>56.240000</td>\n",
              "      <td>2.000000e+00</td>\n",
              "      <td>2.499000e+01</td>\n",
              "    </tr>\n",
              "    <tr>\n",
              "      <th>max</th>\n",
              "      <td>2994.250000</td>\n",
              "      <td>1.978320e+12</td>\n",
              "      <td>8.750000e+02</td>\n",
              "    </tr>\n",
              "  </tbody>\n",
              "</table>\n",
              "</div>\n",
              "      <button class=\"colab-df-convert\" onclick=\"convertToInteractive('df-f91e12a2-0a46-4f66-8a24-e941d3e39e7d')\"\n",
              "              title=\"Convert this dataframe to an interactive table.\"\n",
              "              style=\"display:none;\">\n",
              "        \n",
              "  <svg xmlns=\"http://www.w3.org/2000/svg\" height=\"24px\"viewBox=\"0 0 24 24\"\n",
              "       width=\"24px\">\n",
              "    <path d=\"M0 0h24v24H0V0z\" fill=\"none\"/>\n",
              "    <path d=\"M18.56 5.44l.94 2.06.94-2.06 2.06-.94-2.06-.94-.94-2.06-.94 2.06-2.06.94zm-11 1L8.5 8.5l.94-2.06 2.06-.94-2.06-.94L8.5 2.5l-.94 2.06-2.06.94zm10 10l.94 2.06.94-2.06 2.06-.94-2.06-.94-.94-2.06-.94 2.06-2.06.94z\"/><path d=\"M17.41 7.96l-1.37-1.37c-.4-.4-.92-.59-1.43-.59-.52 0-1.04.2-1.43.59L10.3 9.45l-7.72 7.72c-.78.78-.78 2.05 0 2.83L4 21.41c.39.39.9.59 1.41.59.51 0 1.02-.2 1.41-.59l7.78-7.78 2.81-2.81c.8-.78.8-2.07 0-2.86zM5.41 20L4 18.59l7.72-7.72 1.47 1.35L5.41 20z\"/>\n",
              "  </svg>\n",
              "      </button>\n",
              "      \n",
              "  <style>\n",
              "    .colab-df-container {\n",
              "      display:flex;\n",
              "      flex-wrap:wrap;\n",
              "      gap: 12px;\n",
              "    }\n",
              "\n",
              "    .colab-df-convert {\n",
              "      background-color: #E8F0FE;\n",
              "      border: none;\n",
              "      border-radius: 50%;\n",
              "      cursor: pointer;\n",
              "      display: none;\n",
              "      fill: #1967D2;\n",
              "      height: 32px;\n",
              "      padding: 0 0 0 0;\n",
              "      width: 32px;\n",
              "    }\n",
              "\n",
              "    .colab-df-convert:hover {\n",
              "      background-color: #E2EBFA;\n",
              "      box-shadow: 0px 1px 2px rgba(60, 64, 67, 0.3), 0px 1px 3px 1px rgba(60, 64, 67, 0.15);\n",
              "      fill: #174EA6;\n",
              "    }\n",
              "\n",
              "    [theme=dark] .colab-df-convert {\n",
              "      background-color: #3B4455;\n",
              "      fill: #D2E3FC;\n",
              "    }\n",
              "\n",
              "    [theme=dark] .colab-df-convert:hover {\n",
              "      background-color: #434B5C;\n",
              "      box-shadow: 0px 1px 3px 1px rgba(0, 0, 0, 0.15);\n",
              "      filter: drop-shadow(0px 1px 2px rgba(0, 0, 0, 0.3));\n",
              "      fill: #FFFFFF;\n",
              "    }\n",
              "  </style>\n",
              "\n",
              "      <script>\n",
              "        const buttonEl =\n",
              "          document.querySelector('#df-f91e12a2-0a46-4f66-8a24-e941d3e39e7d button.colab-df-convert');\n",
              "        buttonEl.style.display =\n",
              "          google.colab.kernel.accessAllowed ? 'block' : 'none';\n",
              "\n",
              "        async function convertToInteractive(key) {\n",
              "          const element = document.querySelector('#df-f91e12a2-0a46-4f66-8a24-e941d3e39e7d');\n",
              "          const dataTable =\n",
              "            await google.colab.kernel.invokeFunction('convertToInteractive',\n",
              "                                                     [key], {});\n",
              "          if (!dataTable) return;\n",
              "\n",
              "          const docLinkHtml = 'Like what you see? Visit the ' +\n",
              "            '<a target=\"_blank\" href=https://colab.research.google.com/notebooks/data_table.ipynb>data table notebook</a>'\n",
              "            + ' to learn more about interactive tables.';\n",
              "          element.innerHTML = '';\n",
              "          dataTable['output_type'] = 'display_data';\n",
              "          await google.colab.output.renderOutput(dataTable, element);\n",
              "          const docLink = document.createElement('div');\n",
              "          docLink.innerHTML = docLinkHtml;\n",
              "          element.appendChild(docLink);\n",
              "        }\n",
              "      </script>\n",
              "    </div>\n",
              "  </div>\n",
              "  "
            ]
          },
          "metadata": {},
          "execution_count": 12
        }
      ]
    },
    {
      "cell_type": "code",
      "metadata": {
        "colab": {
          "base_uri": "https://localhost:8080/",
          "height": 451
        },
        "id": "F7bE5UzA6FLl",
        "outputId": "b0d75d11-dc9d-4b00-bcd2-9c37af989025"
      },
      "source": [
        "March_1 = pd.read_csv('/content/drive/MyDrive/MA_10_3/project_2/ga_BQ_data/March_1.csv', parse_dates=['date'], dtype={'fullVisitorId': 'str'})\n",
        "display(March_1.info())"
      ],
      "execution_count": 13,
      "outputs": [
        {
          "output_type": "stream",
          "name": "stdout",
          "text": [
            "<class 'pandas.core.frame.DataFrame'>\n",
            "RangeIndex: 1157382 entries, 0 to 1157381\n",
            "Data columns (total 17 columns):\n",
            " #   Column             Non-Null Count    Dtype         \n",
            "---  ------             --------------    -----         \n",
            " 0   fullVisitorId      1157382 non-null  object        \n",
            " 1   date               1157382 non-null  datetime64[ns]\n",
            " 2   campaign           1157382 non-null  object        \n",
            " 3   keyword            697496 non-null   object        \n",
            " 4   medium             1157382 non-null  object        \n",
            " 5   source             1157382 non-null  object        \n",
            " 6   browser            1157382 non-null  object        \n",
            " 7   deviceCategory     1157382 non-null  object        \n",
            " 8   continent          1157382 non-null  object        \n",
            " 9   country            1157382 non-null  object        \n",
            " 10  pagePath           1157382 non-null  object        \n",
            " 11  transactionId      6018 non-null     object        \n",
            " 12  productRevenue     2977 non-null     float64       \n",
            " 13  productQuantity    20393 non-null    float64       \n",
            " 14  productPrice       1157382 non-null  int64         \n",
            " 15  v2ProductCategory  1157382 non-null  object        \n",
            " 16  v2ProductName      1157382 non-null  object        \n",
            "dtypes: datetime64[ns](1), float64(2), int64(1), object(13)\n",
            "memory usage: 150.1+ MB\n"
          ]
        },
        {
          "output_type": "display_data",
          "data": {
            "text/plain": [
              "None"
            ]
          },
          "metadata": {}
        }
      ]
    },
    {
      "cell_type": "code",
      "metadata": {
        "id": "b31NH5zGsSQH"
      },
      "source": [
        "March_2 = March_1\n",
        "March_2.productRevenue = March_1.productRevenue.apply(lambda x: x/1000000)\n",
        "March_2.productPrice = March_1.productPrice.apply(lambda x: x/1000000)"
      ],
      "execution_count": 14,
      "outputs": []
    },
    {
      "cell_type": "code",
      "metadata": {
        "colab": {
          "base_uri": "https://localhost:8080/",
          "height": 300
        },
        "id": "-7o9H94s6eeB",
        "outputId": "7933fa0b-ab10-4058-f5f0-fab4bcd230ed"
      },
      "source": [
        "March_2.describe()"
      ],
      "execution_count": 15,
      "outputs": [
        {
          "output_type": "execute_result",
          "data": {
            "text/plain": [
              "       productRevenue  productQuantity  productPrice\n",
              "count     2977.000000     20393.000000  1.157382e+06\n",
              "mean        50.266275         6.644584  2.461356e+01\n",
              "std        137.810197        26.703814  3.294305e+01\n",
              "min          0.990000         1.000000  0.000000e+00\n",
              "25%         14.590000         1.000000  6.990000e+00\n",
              "50%         21.990000         1.000000  1.699000e+01\n",
              "75%         49.480000         2.000000  2.399000e+01\n",
              "max       4200.500000      1000.000000  9.995000e+02"
            ],
            "text/html": [
              "\n",
              "  <div id=\"df-47478a26-2a04-4384-89d3-3b2de9bd8126\">\n",
              "    <div class=\"colab-df-container\">\n",
              "      <div>\n",
              "<style scoped>\n",
              "    .dataframe tbody tr th:only-of-type {\n",
              "        vertical-align: middle;\n",
              "    }\n",
              "\n",
              "    .dataframe tbody tr th {\n",
              "        vertical-align: top;\n",
              "    }\n",
              "\n",
              "    .dataframe thead th {\n",
              "        text-align: right;\n",
              "    }\n",
              "</style>\n",
              "<table border=\"1\" class=\"dataframe\">\n",
              "  <thead>\n",
              "    <tr style=\"text-align: right;\">\n",
              "      <th></th>\n",
              "      <th>productRevenue</th>\n",
              "      <th>productQuantity</th>\n",
              "      <th>productPrice</th>\n",
              "    </tr>\n",
              "  </thead>\n",
              "  <tbody>\n",
              "    <tr>\n",
              "      <th>count</th>\n",
              "      <td>2977.000000</td>\n",
              "      <td>20393.000000</td>\n",
              "      <td>1.157382e+06</td>\n",
              "    </tr>\n",
              "    <tr>\n",
              "      <th>mean</th>\n",
              "      <td>50.266275</td>\n",
              "      <td>6.644584</td>\n",
              "      <td>2.461356e+01</td>\n",
              "    </tr>\n",
              "    <tr>\n",
              "      <th>std</th>\n",
              "      <td>137.810197</td>\n",
              "      <td>26.703814</td>\n",
              "      <td>3.294305e+01</td>\n",
              "    </tr>\n",
              "    <tr>\n",
              "      <th>min</th>\n",
              "      <td>0.990000</td>\n",
              "      <td>1.000000</td>\n",
              "      <td>0.000000e+00</td>\n",
              "    </tr>\n",
              "    <tr>\n",
              "      <th>25%</th>\n",
              "      <td>14.590000</td>\n",
              "      <td>1.000000</td>\n",
              "      <td>6.990000e+00</td>\n",
              "    </tr>\n",
              "    <tr>\n",
              "      <th>50%</th>\n",
              "      <td>21.990000</td>\n",
              "      <td>1.000000</td>\n",
              "      <td>1.699000e+01</td>\n",
              "    </tr>\n",
              "    <tr>\n",
              "      <th>75%</th>\n",
              "      <td>49.480000</td>\n",
              "      <td>2.000000</td>\n",
              "      <td>2.399000e+01</td>\n",
              "    </tr>\n",
              "    <tr>\n",
              "      <th>max</th>\n",
              "      <td>4200.500000</td>\n",
              "      <td>1000.000000</td>\n",
              "      <td>9.995000e+02</td>\n",
              "    </tr>\n",
              "  </tbody>\n",
              "</table>\n",
              "</div>\n",
              "      <button class=\"colab-df-convert\" onclick=\"convertToInteractive('df-47478a26-2a04-4384-89d3-3b2de9bd8126')\"\n",
              "              title=\"Convert this dataframe to an interactive table.\"\n",
              "              style=\"display:none;\">\n",
              "        \n",
              "  <svg xmlns=\"http://www.w3.org/2000/svg\" height=\"24px\"viewBox=\"0 0 24 24\"\n",
              "       width=\"24px\">\n",
              "    <path d=\"M0 0h24v24H0V0z\" fill=\"none\"/>\n",
              "    <path d=\"M18.56 5.44l.94 2.06.94-2.06 2.06-.94-2.06-.94-.94-2.06-.94 2.06-2.06.94zm-11 1L8.5 8.5l.94-2.06 2.06-.94-2.06-.94L8.5 2.5l-.94 2.06-2.06.94zm10 10l.94 2.06.94-2.06 2.06-.94-2.06-.94-.94-2.06-.94 2.06-2.06.94z\"/><path d=\"M17.41 7.96l-1.37-1.37c-.4-.4-.92-.59-1.43-.59-.52 0-1.04.2-1.43.59L10.3 9.45l-7.72 7.72c-.78.78-.78 2.05 0 2.83L4 21.41c.39.39.9.59 1.41.59.51 0 1.02-.2 1.41-.59l7.78-7.78 2.81-2.81c.8-.78.8-2.07 0-2.86zM5.41 20L4 18.59l7.72-7.72 1.47 1.35L5.41 20z\"/>\n",
              "  </svg>\n",
              "      </button>\n",
              "      \n",
              "  <style>\n",
              "    .colab-df-container {\n",
              "      display:flex;\n",
              "      flex-wrap:wrap;\n",
              "      gap: 12px;\n",
              "    }\n",
              "\n",
              "    .colab-df-convert {\n",
              "      background-color: #E8F0FE;\n",
              "      border: none;\n",
              "      border-radius: 50%;\n",
              "      cursor: pointer;\n",
              "      display: none;\n",
              "      fill: #1967D2;\n",
              "      height: 32px;\n",
              "      padding: 0 0 0 0;\n",
              "      width: 32px;\n",
              "    }\n",
              "\n",
              "    .colab-df-convert:hover {\n",
              "      background-color: #E2EBFA;\n",
              "      box-shadow: 0px 1px 2px rgba(60, 64, 67, 0.3), 0px 1px 3px 1px rgba(60, 64, 67, 0.15);\n",
              "      fill: #174EA6;\n",
              "    }\n",
              "\n",
              "    [theme=dark] .colab-df-convert {\n",
              "      background-color: #3B4455;\n",
              "      fill: #D2E3FC;\n",
              "    }\n",
              "\n",
              "    [theme=dark] .colab-df-convert:hover {\n",
              "      background-color: #434B5C;\n",
              "      box-shadow: 0px 1px 3px 1px rgba(0, 0, 0, 0.15);\n",
              "      filter: drop-shadow(0px 1px 2px rgba(0, 0, 0, 0.3));\n",
              "      fill: #FFFFFF;\n",
              "    }\n",
              "  </style>\n",
              "\n",
              "      <script>\n",
              "        const buttonEl =\n",
              "          document.querySelector('#df-47478a26-2a04-4384-89d3-3b2de9bd8126 button.colab-df-convert');\n",
              "        buttonEl.style.display =\n",
              "          google.colab.kernel.accessAllowed ? 'block' : 'none';\n",
              "\n",
              "        async function convertToInteractive(key) {\n",
              "          const element = document.querySelector('#df-47478a26-2a04-4384-89d3-3b2de9bd8126');\n",
              "          const dataTable =\n",
              "            await google.colab.kernel.invokeFunction('convertToInteractive',\n",
              "                                                     [key], {});\n",
              "          if (!dataTable) return;\n",
              "\n",
              "          const docLinkHtml = 'Like what you see? Visit the ' +\n",
              "            '<a target=\"_blank\" href=https://colab.research.google.com/notebooks/data_table.ipynb>data table notebook</a>'\n",
              "            + ' to learn more about interactive tables.';\n",
              "          element.innerHTML = '';\n",
              "          dataTable['output_type'] = 'display_data';\n",
              "          await google.colab.output.renderOutput(dataTable, element);\n",
              "          const docLink = document.createElement('div');\n",
              "          docLink.innerHTML = docLinkHtml;\n",
              "          element.appendChild(docLink);\n",
              "        }\n",
              "      </script>\n",
              "    </div>\n",
              "  </div>\n",
              "  "
            ]
          },
          "metadata": {},
          "execution_count": 15
        }
      ]
    },
    {
      "cell_type": "code",
      "metadata": {
        "colab": {
          "base_uri": "https://localhost:8080/",
          "height": 451
        },
        "id": "-y-FRaII654p",
        "outputId": "acd5ae73-6d18-460b-c3f2-8faf280e1133"
      },
      "source": [
        "April_1 = pd.read_csv('/content/drive/MyDrive/MA_10_3/project_2/ga_BQ_data/April_1.csv', parse_dates=['date'], dtype={'fullVisitorId': 'str'})\n",
        "display(April_1.info())"
      ],
      "execution_count": 16,
      "outputs": [
        {
          "output_type": "stream",
          "name": "stdout",
          "text": [
            "<class 'pandas.core.frame.DataFrame'>\n",
            "RangeIndex: 1095684 entries, 0 to 1095683\n",
            "Data columns (total 17 columns):\n",
            " #   Column             Non-Null Count    Dtype         \n",
            "---  ------             --------------    -----         \n",
            " 0   fullVisitorId      1095684 non-null  object        \n",
            " 1   date               1095684 non-null  datetime64[ns]\n",
            " 2   campaign           1095684 non-null  object        \n",
            " 3   keyword            588975 non-null   object        \n",
            " 4   medium             1095684 non-null  object        \n",
            " 5   source             1095684 non-null  object        \n",
            " 6   browser            1095684 non-null  object        \n",
            " 7   deviceCategory     1095684 non-null  object        \n",
            " 8   continent          1095684 non-null  object        \n",
            " 9   country            1095684 non-null  object        \n",
            " 10  pagePath           1095684 non-null  object        \n",
            " 11  transactionId      5912 non-null     object        \n",
            " 12  productRevenue     2906 non-null     float64       \n",
            " 13  productQuantity    20585 non-null    float64       \n",
            " 14  productPrice       1095684 non-null  int64         \n",
            " 15  v2ProductCategory  1095684 non-null  object        \n",
            " 16  v2ProductName      1095684 non-null  object        \n",
            "dtypes: datetime64[ns](1), float64(2), int64(1), object(13)\n",
            "memory usage: 142.1+ MB\n"
          ]
        },
        {
          "output_type": "display_data",
          "data": {
            "text/plain": [
              "None"
            ]
          },
          "metadata": {}
        }
      ]
    },
    {
      "cell_type": "code",
      "metadata": {
        "id": "7ov_ZQHvtDvH"
      },
      "source": [
        "April_2 = April_1\n",
        "April_2.productRevenue = April_1.productRevenue.apply(lambda x: x/1000000)\n",
        "April_2.productPrice = April_1.productPrice.apply(lambda x: x/1000000)"
      ],
      "execution_count": 17,
      "outputs": []
    },
    {
      "cell_type": "code",
      "metadata": {
        "colab": {
          "base_uri": "https://localhost:8080/",
          "height": 300
        },
        "id": "atXi_V_A7RrX",
        "outputId": "2e0b0965-7a85-4226-8adc-f00714302823"
      },
      "source": [
        "April_2.describe()"
      ],
      "execution_count": 18,
      "outputs": [
        {
          "output_type": "execute_result",
          "data": {
            "text/plain": [
              "       productRevenue  productQuantity  productPrice\n",
              "count     2906.000000     20585.000000  1.095684e+06\n",
              "mean        76.701645        18.163711  2.447159e+01\n",
              "std        366.990466       987.069034  3.169547e+01\n",
              "min          0.895263         1.000000  0.000000e+00\n",
              "25%         12.882500         1.000000  6.990000e+00\n",
              "50%         19.690000         1.000000  1.699000e+01\n",
              "75%         42.742499         2.000000  2.499000e+01\n",
              "max       9496.000000    100000.000000  9.969300e+02"
            ],
            "text/html": [
              "\n",
              "  <div id=\"df-7812c9da-11d6-4509-ab0f-2b8b2537363a\">\n",
              "    <div class=\"colab-df-container\">\n",
              "      <div>\n",
              "<style scoped>\n",
              "    .dataframe tbody tr th:only-of-type {\n",
              "        vertical-align: middle;\n",
              "    }\n",
              "\n",
              "    .dataframe tbody tr th {\n",
              "        vertical-align: top;\n",
              "    }\n",
              "\n",
              "    .dataframe thead th {\n",
              "        text-align: right;\n",
              "    }\n",
              "</style>\n",
              "<table border=\"1\" class=\"dataframe\">\n",
              "  <thead>\n",
              "    <tr style=\"text-align: right;\">\n",
              "      <th></th>\n",
              "      <th>productRevenue</th>\n",
              "      <th>productQuantity</th>\n",
              "      <th>productPrice</th>\n",
              "    </tr>\n",
              "  </thead>\n",
              "  <tbody>\n",
              "    <tr>\n",
              "      <th>count</th>\n",
              "      <td>2906.000000</td>\n",
              "      <td>20585.000000</td>\n",
              "      <td>1.095684e+06</td>\n",
              "    </tr>\n",
              "    <tr>\n",
              "      <th>mean</th>\n",
              "      <td>76.701645</td>\n",
              "      <td>18.163711</td>\n",
              "      <td>2.447159e+01</td>\n",
              "    </tr>\n",
              "    <tr>\n",
              "      <th>std</th>\n",
              "      <td>366.990466</td>\n",
              "      <td>987.069034</td>\n",
              "      <td>3.169547e+01</td>\n",
              "    </tr>\n",
              "    <tr>\n",
              "      <th>min</th>\n",
              "      <td>0.895263</td>\n",
              "      <td>1.000000</td>\n",
              "      <td>0.000000e+00</td>\n",
              "    </tr>\n",
              "    <tr>\n",
              "      <th>25%</th>\n",
              "      <td>12.882500</td>\n",
              "      <td>1.000000</td>\n",
              "      <td>6.990000e+00</td>\n",
              "    </tr>\n",
              "    <tr>\n",
              "      <th>50%</th>\n",
              "      <td>19.690000</td>\n",
              "      <td>1.000000</td>\n",
              "      <td>1.699000e+01</td>\n",
              "    </tr>\n",
              "    <tr>\n",
              "      <th>75%</th>\n",
              "      <td>42.742499</td>\n",
              "      <td>2.000000</td>\n",
              "      <td>2.499000e+01</td>\n",
              "    </tr>\n",
              "    <tr>\n",
              "      <th>max</th>\n",
              "      <td>9496.000000</td>\n",
              "      <td>100000.000000</td>\n",
              "      <td>9.969300e+02</td>\n",
              "    </tr>\n",
              "  </tbody>\n",
              "</table>\n",
              "</div>\n",
              "      <button class=\"colab-df-convert\" onclick=\"convertToInteractive('df-7812c9da-11d6-4509-ab0f-2b8b2537363a')\"\n",
              "              title=\"Convert this dataframe to an interactive table.\"\n",
              "              style=\"display:none;\">\n",
              "        \n",
              "  <svg xmlns=\"http://www.w3.org/2000/svg\" height=\"24px\"viewBox=\"0 0 24 24\"\n",
              "       width=\"24px\">\n",
              "    <path d=\"M0 0h24v24H0V0z\" fill=\"none\"/>\n",
              "    <path d=\"M18.56 5.44l.94 2.06.94-2.06 2.06-.94-2.06-.94-.94-2.06-.94 2.06-2.06.94zm-11 1L8.5 8.5l.94-2.06 2.06-.94-2.06-.94L8.5 2.5l-.94 2.06-2.06.94zm10 10l.94 2.06.94-2.06 2.06-.94-2.06-.94-.94-2.06-.94 2.06-2.06.94z\"/><path d=\"M17.41 7.96l-1.37-1.37c-.4-.4-.92-.59-1.43-.59-.52 0-1.04.2-1.43.59L10.3 9.45l-7.72 7.72c-.78.78-.78 2.05 0 2.83L4 21.41c.39.39.9.59 1.41.59.51 0 1.02-.2 1.41-.59l7.78-7.78 2.81-2.81c.8-.78.8-2.07 0-2.86zM5.41 20L4 18.59l7.72-7.72 1.47 1.35L5.41 20z\"/>\n",
              "  </svg>\n",
              "      </button>\n",
              "      \n",
              "  <style>\n",
              "    .colab-df-container {\n",
              "      display:flex;\n",
              "      flex-wrap:wrap;\n",
              "      gap: 12px;\n",
              "    }\n",
              "\n",
              "    .colab-df-convert {\n",
              "      background-color: #E8F0FE;\n",
              "      border: none;\n",
              "      border-radius: 50%;\n",
              "      cursor: pointer;\n",
              "      display: none;\n",
              "      fill: #1967D2;\n",
              "      height: 32px;\n",
              "      padding: 0 0 0 0;\n",
              "      width: 32px;\n",
              "    }\n",
              "\n",
              "    .colab-df-convert:hover {\n",
              "      background-color: #E2EBFA;\n",
              "      box-shadow: 0px 1px 2px rgba(60, 64, 67, 0.3), 0px 1px 3px 1px rgba(60, 64, 67, 0.15);\n",
              "      fill: #174EA6;\n",
              "    }\n",
              "\n",
              "    [theme=dark] .colab-df-convert {\n",
              "      background-color: #3B4455;\n",
              "      fill: #D2E3FC;\n",
              "    }\n",
              "\n",
              "    [theme=dark] .colab-df-convert:hover {\n",
              "      background-color: #434B5C;\n",
              "      box-shadow: 0px 1px 3px 1px rgba(0, 0, 0, 0.15);\n",
              "      filter: drop-shadow(0px 1px 2px rgba(0, 0, 0, 0.3));\n",
              "      fill: #FFFFFF;\n",
              "    }\n",
              "  </style>\n",
              "\n",
              "      <script>\n",
              "        const buttonEl =\n",
              "          document.querySelector('#df-7812c9da-11d6-4509-ab0f-2b8b2537363a button.colab-df-convert');\n",
              "        buttonEl.style.display =\n",
              "          google.colab.kernel.accessAllowed ? 'block' : 'none';\n",
              "\n",
              "        async function convertToInteractive(key) {\n",
              "          const element = document.querySelector('#df-7812c9da-11d6-4509-ab0f-2b8b2537363a');\n",
              "          const dataTable =\n",
              "            await google.colab.kernel.invokeFunction('convertToInteractive',\n",
              "                                                     [key], {});\n",
              "          if (!dataTable) return;\n",
              "\n",
              "          const docLinkHtml = 'Like what you see? Visit the ' +\n",
              "            '<a target=\"_blank\" href=https://colab.research.google.com/notebooks/data_table.ipynb>data table notebook</a>'\n",
              "            + ' to learn more about interactive tables.';\n",
              "          element.innerHTML = '';\n",
              "          dataTable['output_type'] = 'display_data';\n",
              "          await google.colab.output.renderOutput(dataTable, element);\n",
              "          const docLink = document.createElement('div');\n",
              "          docLink.innerHTML = docLinkHtml;\n",
              "          element.appendChild(docLink);\n",
              "        }\n",
              "      </script>\n",
              "    </div>\n",
              "  </div>\n",
              "  "
            ]
          },
          "metadata": {},
          "execution_count": 18
        }
      ]
    },
    {
      "cell_type": "markdown",
      "metadata": {
        "id": "B1lv23oCswPg"
      },
      "source": [
        "# Объединение файлов"
      ]
    },
    {
      "cell_type": "code",
      "metadata": {
        "id": "_fc2qDq_kkFA"
      },
      "source": [
        "# total_dataframe = Jenuary_2.append([February_2, March_2, April_2])"
      ],
      "execution_count": null,
      "outputs": []
    },
    {
      "cell_type": "code",
      "metadata": {
        "id": "HBOGnXpADTNi",
        "colab": {
          "base_uri": "https://localhost:8080/",
          "height": 442
        },
        "outputId": "3f159ad0-7568-4245-d05b-b1bf0c0b3c98"
      },
      "source": [
        "import numpy as np\n",
        "\n",
        "folder = '/content/drive/MyDrive/MA_10_3/project_2/ga_BQ_data'\n",
        "\n",
        "# # for f in files:\n",
        "# #     df = pd.read_csv(os.path.join(folder, f))\n",
        "# #     display(df.info())\n",
        "# #     pd.concat((total_dataframe, df))\n",
        "\n",
        "total_dataframe = pd.concat([pd.read_csv(os.path.join(folder, f), parse_dates=['date'], dtype={'fullVisitorId': 'str', 'keyword': 'str', 'transactionId': 'str'}) for f in files])\n",
        "total_dataframe = total_dataframe.fillna(0)\n",
        "total_dataframe.productRevenue = round(total_dataframe.productRevenue, 2)\n",
        "display(total_dataframe.info())"
      ],
      "execution_count": null,
      "outputs": [
        {
          "output_type": "stream",
          "name": "stdout",
          "text": [
            "<class 'pandas.core.frame.DataFrame'>\n",
            "Int64Index: 4491345 entries, 0 to 1095683\n",
            "Data columns (total 17 columns):\n",
            " #   Column             Dtype         \n",
            "---  ------             -----         \n",
            " 0   fullVisitorId      object        \n",
            " 1   date               datetime64[ns]\n",
            " 2   campaign           object        \n",
            " 3   keyword            object        \n",
            " 4   medium             object        \n",
            " 5   source             object        \n",
            " 6   browser            object        \n",
            " 7   deviceCategory     object        \n",
            " 8   continent          object        \n",
            " 9   country            object        \n",
            " 10  pagePath           object        \n",
            " 11  transactionId      object        \n",
            " 12  productRevenue     float64       \n",
            " 13  productQuantity    float64       \n",
            " 14  productPrice       int64         \n",
            " 15  v2ProductCategory  object        \n",
            " 16  v2ProductName      object        \n",
            "dtypes: datetime64[ns](1), float64(2), int64(1), object(13)\n",
            "memory usage: 616.8+ MB\n"
          ]
        },
        {
          "output_type": "display_data",
          "data": {
            "text/plain": [
              "None"
            ]
          },
          "metadata": {}
        }
      ]
    },
    {
      "cell_type": "code",
      "metadata": {
        "id": "1mpNhRN5qi6Z"
      },
      "source": [
        "total_df = total_dataframe\n",
        "total_df.productRevenue = total_dataframe.productRevenue.apply(lambda x: x/1000000)\n",
        "total_df.productPrice = total_dataframe.productPrice.apply(lambda x: x/1000000)"
      ],
      "execution_count": null,
      "outputs": []
    },
    {
      "cell_type": "markdown",
      "metadata": {
        "id": "EegEXa-iIEle"
      },
      "source": [
        "# Исследование данных"
      ]
    },
    {
      "cell_type": "markdown",
      "metadata": {
        "id": "Q6M9DwPPILN7"
      },
      "source": [
        "Проверка наличия объектов NaN"
      ]
    },
    {
      "cell_type": "code",
      "metadata": {
        "colab": {
          "base_uri": "https://localhost:8080/"
        },
        "id": "WOauUgzF8sur",
        "outputId": "c63b1601-23c4-41cc-e923-34ff5bcc4a05"
      },
      "source": [
        "total_df.isna().sum()"
      ],
      "execution_count": null,
      "outputs": [
        {
          "output_type": "execute_result",
          "data": {
            "text/plain": [
              "fullVisitorId        0\n",
              "date                 0\n",
              "campaign             0\n",
              "keyword              0\n",
              "medium               0\n",
              "source               0\n",
              "browser              0\n",
              "deviceCategory       0\n",
              "continent            0\n",
              "country              0\n",
              "pagePath             0\n",
              "transactionId        0\n",
              "productRevenue       0\n",
              "productQuantity      0\n",
              "productPrice         0\n",
              "v2ProductCategory    0\n",
              "v2ProductName        0\n",
              "dtype: int64"
            ]
          },
          "metadata": {},
          "execution_count": 7
        }
      ]
    },
    {
      "cell_type": "markdown",
      "metadata": {
        "id": "-llW7rA4hlsF"
      },
      "source": [
        "Заполненность столбцов"
      ]
    },
    {
      "cell_type": "code",
      "metadata": {
        "colab": {
          "base_uri": "https://localhost:8080/",
          "height": 445
        },
        "id": "pUwE7JtUp_WB",
        "outputId": "12195bbf-8883-48a4-fa21-baae4514d091"
      },
      "source": [
        "total_df.head()"
      ],
      "execution_count": null,
      "outputs": [
        {
          "output_type": "execute_result",
          "data": {
            "text/html": [
              "<div>\n",
              "<style scoped>\n",
              "    .dataframe tbody tr th:only-of-type {\n",
              "        vertical-align: middle;\n",
              "    }\n",
              "\n",
              "    .dataframe tbody tr th {\n",
              "        vertical-align: top;\n",
              "    }\n",
              "\n",
              "    .dataframe thead th {\n",
              "        text-align: right;\n",
              "    }\n",
              "</style>\n",
              "<table border=\"1\" class=\"dataframe\">\n",
              "  <thead>\n",
              "    <tr style=\"text-align: right;\">\n",
              "      <th></th>\n",
              "      <th>fullVisitorId</th>\n",
              "      <th>date</th>\n",
              "      <th>campaign</th>\n",
              "      <th>keyword</th>\n",
              "      <th>medium</th>\n",
              "      <th>source</th>\n",
              "      <th>browser</th>\n",
              "      <th>deviceCategory</th>\n",
              "      <th>continent</th>\n",
              "      <th>country</th>\n",
              "      <th>pagePath</th>\n",
              "      <th>transactionId</th>\n",
              "      <th>productRevenue</th>\n",
              "      <th>productQuantity</th>\n",
              "      <th>productPrice</th>\n",
              "      <th>v2ProductCategory</th>\n",
              "      <th>v2ProductName</th>\n",
              "    </tr>\n",
              "  </thead>\n",
              "  <tbody>\n",
              "    <tr>\n",
              "      <th>0</th>\n",
              "      <td>7834842572057200436</td>\n",
              "      <td>2017-01-30</td>\n",
              "      <td>(not set)</td>\n",
              "      <td>0</td>\n",
              "      <td>(none)</td>\n",
              "      <td>(direct)</td>\n",
              "      <td>Chrome</td>\n",
              "      <td>desktop</td>\n",
              "      <td>Europe</td>\n",
              "      <td>France</td>\n",
              "      <td>/google+redesign/apparel/women+s</td>\n",
              "      <td>0</td>\n",
              "      <td>0.0</td>\n",
              "      <td>0.0</td>\n",
              "      <td>4.50</td>\n",
              "      <td>Home/Apparel/Women's/</td>\n",
              "      <td>Fashion Sunglasses &amp; Pouch</td>\n",
              "    </tr>\n",
              "    <tr>\n",
              "      <th>1</th>\n",
              "      <td>7834842572057200436</td>\n",
              "      <td>2017-01-30</td>\n",
              "      <td>(not set)</td>\n",
              "      <td>0</td>\n",
              "      <td>(none)</td>\n",
              "      <td>(direct)</td>\n",
              "      <td>Chrome</td>\n",
              "      <td>desktop</td>\n",
              "      <td>Europe</td>\n",
              "      <td>France</td>\n",
              "      <td>/google+redesign/apparel/women+s</td>\n",
              "      <td>0</td>\n",
              "      <td>0.0</td>\n",
              "      <td>0.0</td>\n",
              "      <td>16.99</td>\n",
              "      <td>Home/Apparel/Women's/</td>\n",
              "      <td>Google Women's Short Sleeve Hero Tee White</td>\n",
              "    </tr>\n",
              "    <tr>\n",
              "      <th>2</th>\n",
              "      <td>7834842572057200436</td>\n",
              "      <td>2017-01-30</td>\n",
              "      <td>(not set)</td>\n",
              "      <td>0</td>\n",
              "      <td>(none)</td>\n",
              "      <td>(direct)</td>\n",
              "      <td>Chrome</td>\n",
              "      <td>desktop</td>\n",
              "      <td>Europe</td>\n",
              "      <td>France</td>\n",
              "      <td>/google+redesign/apparel/women+s</td>\n",
              "      <td>0</td>\n",
              "      <td>0.0</td>\n",
              "      <td>0.0</td>\n",
              "      <td>18.99</td>\n",
              "      <td>Home/Apparel/Women's/</td>\n",
              "      <td>Google Women's Short Sleeve Hero Tee Sky Blue</td>\n",
              "    </tr>\n",
              "    <tr>\n",
              "      <th>3</th>\n",
              "      <td>7834842572057200436</td>\n",
              "      <td>2017-01-30</td>\n",
              "      <td>(not set)</td>\n",
              "      <td>0</td>\n",
              "      <td>(none)</td>\n",
              "      <td>(direct)</td>\n",
              "      <td>Chrome</td>\n",
              "      <td>desktop</td>\n",
              "      <td>Europe</td>\n",
              "      <td>France</td>\n",
              "      <td>/google+redesign/apparel/women+s</td>\n",
              "      <td>0</td>\n",
              "      <td>0.0</td>\n",
              "      <td>0.0</td>\n",
              "      <td>16.99</td>\n",
              "      <td>Home/Apparel/Women's/</td>\n",
              "      <td>Google Women's Short Sleeve Hero Tee Black</td>\n",
              "    </tr>\n",
              "    <tr>\n",
              "      <th>4</th>\n",
              "      <td>7834842572057200436</td>\n",
              "      <td>2017-01-30</td>\n",
              "      <td>(not set)</td>\n",
              "      <td>0</td>\n",
              "      <td>(none)</td>\n",
              "      <td>(direct)</td>\n",
              "      <td>Chrome</td>\n",
              "      <td>desktop</td>\n",
              "      <td>Europe</td>\n",
              "      <td>France</td>\n",
              "      <td>/google+redesign/apparel/women+s</td>\n",
              "      <td>0</td>\n",
              "      <td>0.0</td>\n",
              "      <td>0.0</td>\n",
              "      <td>55.99</td>\n",
              "      <td>Home/Apparel/Women's/</td>\n",
              "      <td>Google Women's Fleece Hoodie</td>\n",
              "    </tr>\n",
              "  </tbody>\n",
              "</table>\n",
              "</div>"
            ],
            "text/plain": [
              "         fullVisitorId  ...                                  v2ProductName\n",
              "0  7834842572057200436  ...                     Fashion Sunglasses & Pouch\n",
              "1  7834842572057200436  ...     Google Women's Short Sleeve Hero Tee White\n",
              "2  7834842572057200436  ...  Google Women's Short Sleeve Hero Tee Sky Blue\n",
              "3  7834842572057200436  ...     Google Women's Short Sleeve Hero Tee Black\n",
              "4  7834842572057200436  ...                   Google Women's Fleece Hoodie\n",
              "\n",
              "[5 rows x 17 columns]"
            ]
          },
          "metadata": {},
          "execution_count": 8
        }
      ]
    },
    {
      "cell_type": "markdown",
      "metadata": {
        "id": "1bn064C4Ib0b"
      },
      "source": [
        "Сводные статистики"
      ]
    },
    {
      "cell_type": "code",
      "metadata": {
        "colab": {
          "base_uri": "https://localhost:8080/",
          "height": 297
        },
        "id": "_C0eWii0EitI",
        "outputId": "520e518c-640a-43ea-adaa-3511950304f2"
      },
      "source": [
        "total_df.describe()"
      ],
      "execution_count": null,
      "outputs": [
        {
          "output_type": "execute_result",
          "data": {
            "text/html": [
              "<div>\n",
              "<style scoped>\n",
              "    .dataframe tbody tr th:only-of-type {\n",
              "        vertical-align: middle;\n",
              "    }\n",
              "\n",
              "    .dataframe tbody tr th {\n",
              "        vertical-align: top;\n",
              "    }\n",
              "\n",
              "    .dataframe thead th {\n",
              "        text-align: right;\n",
              "    }\n",
              "</style>\n",
              "<table border=\"1\" class=\"dataframe\">\n",
              "  <thead>\n",
              "    <tr style=\"text-align: right;\">\n",
              "      <th></th>\n",
              "      <th>productRevenue</th>\n",
              "      <th>productQuantity</th>\n",
              "      <th>productPrice</th>\n",
              "    </tr>\n",
              "  </thead>\n",
              "  <tbody>\n",
              "    <tr>\n",
              "      <th>count</th>\n",
              "      <td>4.491345e+06</td>\n",
              "      <td>4.491345e+06</td>\n",
              "      <td>4.491345e+06</td>\n",
              "    </tr>\n",
              "    <tr>\n",
              "      <th>mean</th>\n",
              "      <td>1.325118e-01</td>\n",
              "      <td>4.404757e+05</td>\n",
              "      <td>2.540661e+01</td>\n",
              "    </tr>\n",
              "    <tr>\n",
              "      <th>std</th>\n",
              "      <td>1.101033e+01</td>\n",
              "      <td>9.334871e+08</td>\n",
              "      <td>3.188881e+01</td>\n",
              "    </tr>\n",
              "    <tr>\n",
              "      <th>min</th>\n",
              "      <td>0.000000e+00</td>\n",
              "      <td>0.000000e+00</td>\n",
              "      <td>0.000000e+00</td>\n",
              "    </tr>\n",
              "    <tr>\n",
              "      <th>25%</th>\n",
              "      <td>0.000000e+00</td>\n",
              "      <td>0.000000e+00</td>\n",
              "      <td>6.990000e+00</td>\n",
              "    </tr>\n",
              "    <tr>\n",
              "      <th>50%</th>\n",
              "      <td>0.000000e+00</td>\n",
              "      <td>0.000000e+00</td>\n",
              "      <td>1.699000e+01</td>\n",
              "    </tr>\n",
              "    <tr>\n",
              "      <th>75%</th>\n",
              "      <td>0.000000e+00</td>\n",
              "      <td>0.000000e+00</td>\n",
              "      <td>2.499000e+01</td>\n",
              "    </tr>\n",
              "    <tr>\n",
              "      <th>max</th>\n",
              "      <td>9.496000e+03</td>\n",
              "      <td>1.978320e+12</td>\n",
              "      <td>9.995000e+02</td>\n",
              "    </tr>\n",
              "  </tbody>\n",
              "</table>\n",
              "</div>"
            ],
            "text/plain": [
              "       productRevenue  productQuantity  productPrice\n",
              "count    4.491345e+06     4.491345e+06  4.491345e+06\n",
              "mean     1.325118e-01     4.404757e+05  2.540661e+01\n",
              "std      1.101033e+01     9.334871e+08  3.188881e+01\n",
              "min      0.000000e+00     0.000000e+00  0.000000e+00\n",
              "25%      0.000000e+00     0.000000e+00  6.990000e+00\n",
              "50%      0.000000e+00     0.000000e+00  1.699000e+01\n",
              "75%      0.000000e+00     0.000000e+00  2.499000e+01\n",
              "max      9.496000e+03     1.978320e+12  9.995000e+02"
            ]
          },
          "metadata": {},
          "execution_count": 9
        }
      ]
    },
    {
      "cell_type": "code",
      "metadata": {
        "colab": {
          "base_uri": "https://localhost:8080/",
          "height": 224
        },
        "id": "m4-s7lOCl9V1",
        "outputId": "2f9c1502-2a75-4d28-8164-11609f52599e"
      },
      "source": [
        "total_df.describe(include = ['object'])"
      ],
      "execution_count": null,
      "outputs": [
        {
          "output_type": "execute_result",
          "data": {
            "text/html": [
              "<div>\n",
              "<style scoped>\n",
              "    .dataframe tbody tr th:only-of-type {\n",
              "        vertical-align: middle;\n",
              "    }\n",
              "\n",
              "    .dataframe tbody tr th {\n",
              "        vertical-align: top;\n",
              "    }\n",
              "\n",
              "    .dataframe thead th {\n",
              "        text-align: right;\n",
              "    }\n",
              "</style>\n",
              "<table border=\"1\" class=\"dataframe\">\n",
              "  <thead>\n",
              "    <tr style=\"text-align: right;\">\n",
              "      <th></th>\n",
              "      <th>fullVisitorId</th>\n",
              "      <th>campaign</th>\n",
              "      <th>keyword</th>\n",
              "      <th>medium</th>\n",
              "      <th>source</th>\n",
              "      <th>browser</th>\n",
              "      <th>deviceCategory</th>\n",
              "      <th>continent</th>\n",
              "      <th>country</th>\n",
              "      <th>pagePath</th>\n",
              "      <th>transactionId</th>\n",
              "      <th>v2ProductCategory</th>\n",
              "      <th>v2ProductName</th>\n",
              "    </tr>\n",
              "  </thead>\n",
              "  <tbody>\n",
              "    <tr>\n",
              "      <th>count</th>\n",
              "      <td>4491345</td>\n",
              "      <td>4491345</td>\n",
              "      <td>4491345</td>\n",
              "      <td>4491345</td>\n",
              "      <td>4491345</td>\n",
              "      <td>4491345</td>\n",
              "      <td>4491345</td>\n",
              "      <td>4491345</td>\n",
              "      <td>4491345</td>\n",
              "      <td>4491345</td>\n",
              "      <td>4491345</td>\n",
              "      <td>4491345</td>\n",
              "      <td>4491345</td>\n",
              "    </tr>\n",
              "    <tr>\n",
              "      <th>unique</th>\n",
              "      <td>116844</td>\n",
              "      <td>6</td>\n",
              "      <td>1026</td>\n",
              "      <td>7</td>\n",
              "      <td>150</td>\n",
              "      <td>29</td>\n",
              "      <td>3</td>\n",
              "      <td>6</td>\n",
              "      <td>192</td>\n",
              "      <td>859</td>\n",
              "      <td>3216</td>\n",
              "      <td>69</td>\n",
              "      <td>475</td>\n",
              "    </tr>\n",
              "    <tr>\n",
              "      <th>top</th>\n",
              "      <td>1957458976293878100</td>\n",
              "      <td>(not set)</td>\n",
              "      <td>0</td>\n",
              "      <td>(none)</td>\n",
              "      <td>(direct)</td>\n",
              "      <td>Chrome</td>\n",
              "      <td>desktop</td>\n",
              "      <td>Americas</td>\n",
              "      <td>United States</td>\n",
              "      <td>/google+redesign/shop+by+brand/youtube</td>\n",
              "      <td>0</td>\n",
              "      <td>Home/Shop by Brand/YouTube/</td>\n",
              "      <td>Google Men's 100% Cotton Short Sleeve Hero Tee...</td>\n",
              "    </tr>\n",
              "    <tr>\n",
              "      <th>freq</th>\n",
              "      <td>6549</td>\n",
              "      <td>4362771</td>\n",
              "      <td>2748974</td>\n",
              "      <td>2280953</td>\n",
              "      <td>2280953</td>\n",
              "      <td>3353939</td>\n",
              "      <td>3166896</td>\n",
              "      <td>2985568</td>\n",
              "      <td>2618224</td>\n",
              "      <td>627049</td>\n",
              "      <td>4470946</td>\n",
              "      <td>649055</td>\n",
              "      <td>86695</td>\n",
              "    </tr>\n",
              "  </tbody>\n",
              "</table>\n",
              "</div>"
            ],
            "text/plain": [
              "              fullVisitorId  ...                                      v2ProductName\n",
              "count               4491345  ...                                            4491345\n",
              "unique               116844  ...                                                475\n",
              "top     1957458976293878100  ...  Google Men's 100% Cotton Short Sleeve Hero Tee...\n",
              "freq                   6549  ...                                              86695\n",
              "\n",
              "[4 rows x 13 columns]"
            ]
          },
          "metadata": {},
          "execution_count": 10
        }
      ]
    },
    {
      "cell_type": "markdown",
      "metadata": {
        "id": "BdasLMUnmnB1"
      },
      "source": [
        "Эффективность рекламных кампаний. Основная сумма выручки от продаж без рекламной компании. Это говорит о популярности бренда.\n",
        "\n",
        "Две рекламные кампании не принесли выручки\n",
        "\n",
        "Это: AW - Apparel и AW - Electronics."
      ]
    },
    {
      "cell_type": "code",
      "metadata": {
        "colab": {
          "base_uri": "https://localhost:8080/",
          "height": 297
        },
        "id": "9pgjQNn44x2E",
        "outputId": "380dd06b-ade6-4e1e-aec7-7dc3acf71995"
      },
      "source": [
        "total_df['month'] = total_df.date.dt.month_name()\n",
        "total_df.pivot_table(values = 'productRevenue', index = 'campaign', columns = 'month', aggfunc = 'sum', fill_value=0, margins=True)"
      ],
      "execution_count": null,
      "outputs": [
        {
          "output_type": "execute_result",
          "data": {
            "text/html": [
              "<div>\n",
              "<style scoped>\n",
              "    .dataframe tbody tr th:only-of-type {\n",
              "        vertical-align: middle;\n",
              "    }\n",
              "\n",
              "    .dataframe tbody tr th {\n",
              "        vertical-align: top;\n",
              "    }\n",
              "\n",
              "    .dataframe thead th {\n",
              "        text-align: right;\n",
              "    }\n",
              "</style>\n",
              "<table border=\"1\" class=\"dataframe\">\n",
              "  <thead>\n",
              "    <tr style=\"text-align: right;\">\n",
              "      <th>month</th>\n",
              "      <th>April</th>\n",
              "      <th>February</th>\n",
              "      <th>January</th>\n",
              "      <th>March</th>\n",
              "      <th>All</th>\n",
              "    </tr>\n",
              "    <tr>\n",
              "      <th>campaign</th>\n",
              "      <th></th>\n",
              "      <th></th>\n",
              "      <th></th>\n",
              "      <th></th>\n",
              "      <th></th>\n",
              "    </tr>\n",
              "  </thead>\n",
              "  <tbody>\n",
              "    <tr>\n",
              "      <th>(not set)</th>\n",
              "      <td>218184.259581</td>\n",
              "      <td>113836.349697</td>\n",
              "      <td>105641.009707</td>\n",
              "      <td>147302.899543</td>\n",
              "      <td>584964.518528</td>\n",
              "    </tr>\n",
              "    <tr>\n",
              "      <th>AW - Accessories</th>\n",
              "      <td>4204.209979</td>\n",
              "      <td>2214.269993</td>\n",
              "      <td>0.000000</td>\n",
              "      <td>2032.040000</td>\n",
              "      <td>8450.519972</td>\n",
              "    </tr>\n",
              "    <tr>\n",
              "      <th>AW - Apparel</th>\n",
              "      <td>0.000000</td>\n",
              "      <td>0.000000</td>\n",
              "      <td>0.000000</td>\n",
              "      <td>0.000000</td>\n",
              "      <td>0.000000</td>\n",
              "    </tr>\n",
              "    <tr>\n",
              "      <th>AW - Dynamic Search Ads Whole Site</th>\n",
              "      <td>506.509995</td>\n",
              "      <td>216.730000</td>\n",
              "      <td>679.140000</td>\n",
              "      <td>297.789999</td>\n",
              "      <td>1700.169994</td>\n",
              "    </tr>\n",
              "    <tr>\n",
              "      <th>AW - Electronics</th>\n",
              "      <td>0.000000</td>\n",
              "      <td>0.000000</td>\n",
              "      <td>0.000000</td>\n",
              "      <td>0.000000</td>\n",
              "      <td>0.000000</td>\n",
              "    </tr>\n",
              "    <tr>\n",
              "      <th>Data Share Promo</th>\n",
              "      <td>0.000000</td>\n",
              "      <td>30.990000</td>\n",
              "      <td>0.000000</td>\n",
              "      <td>9.970000</td>\n",
              "      <td>40.960000</td>\n",
              "    </tr>\n",
              "    <tr>\n",
              "      <th>All</th>\n",
              "      <td>222894.979555</td>\n",
              "      <td>116298.339690</td>\n",
              "      <td>106320.149707</td>\n",
              "      <td>149642.699542</td>\n",
              "      <td>595156.168494</td>\n",
              "    </tr>\n",
              "  </tbody>\n",
              "</table>\n",
              "</div>"
            ],
            "text/plain": [
              "month                                       April  ...            All\n",
              "campaign                                           ...               \n",
              "(not set)                           218184.259581  ...  584964.518528\n",
              "AW - Accessories                      4204.209979  ...    8450.519972\n",
              "AW - Apparel                             0.000000  ...       0.000000\n",
              "AW - Dynamic Search Ads Whole Site     506.509995  ...    1700.169994\n",
              "AW - Electronics                         0.000000  ...       0.000000\n",
              "Data Share Promo                         0.000000  ...      40.960000\n",
              "All                                 222894.979555  ...  595156.168494\n",
              "\n",
              "[7 rows x 5 columns]"
            ]
          },
          "metadata": {},
          "execution_count": 11
        }
      ]
    },
    {
      "cell_type": "markdown",
      "metadata": {
        "id": "N04ykaC-eM0f"
      },
      "source": [
        "ТОП-20 товаров по количеству просмотров "
      ]
    },
    {
      "cell_type": "code",
      "metadata": {
        "colab": {
          "base_uri": "https://localhost:8080/",
          "height": 700
        },
        "id": "BierdeqabQtu",
        "outputId": "2cbf105d-85b9-4715-e4e5-4855a9d787b7"
      },
      "source": [
        "df_1 = total_df.groupby(['v2ProductName'])[['fullVisitorId']].count()\n",
        "df_1.sort_values('fullVisitorId', ascending=False).head(20)"
      ],
      "execution_count": null,
      "outputs": [
        {
          "output_type": "execute_result",
          "data": {
            "text/html": [
              "<div>\n",
              "<style scoped>\n",
              "    .dataframe tbody tr th:only-of-type {\n",
              "        vertical-align: middle;\n",
              "    }\n",
              "\n",
              "    .dataframe tbody tr th {\n",
              "        vertical-align: top;\n",
              "    }\n",
              "\n",
              "    .dataframe thead th {\n",
              "        text-align: right;\n",
              "    }\n",
              "</style>\n",
              "<table border=\"1\" class=\"dataframe\">\n",
              "  <thead>\n",
              "    <tr style=\"text-align: right;\">\n",
              "      <th></th>\n",
              "      <th>fullVisitorId</th>\n",
              "    </tr>\n",
              "    <tr>\n",
              "      <th>v2ProductName</th>\n",
              "      <th></th>\n",
              "    </tr>\n",
              "  </thead>\n",
              "  <tbody>\n",
              "    <tr>\n",
              "      <th>Google Men's 100% Cotton Short Sleeve Hero Tee White</th>\n",
              "      <td>86695</td>\n",
              "    </tr>\n",
              "    <tr>\n",
              "      <th>YouTube Twill Cap</th>\n",
              "      <td>81177</td>\n",
              "    </tr>\n",
              "    <tr>\n",
              "      <th>YouTube Wool Heather Cap Heather/Black</th>\n",
              "      <td>79287</td>\n",
              "    </tr>\n",
              "    <tr>\n",
              "      <th>YouTube Custom Decals</th>\n",
              "      <td>75551</td>\n",
              "    </tr>\n",
              "    <tr>\n",
              "      <th>22 oz YouTube Bottle Infuser</th>\n",
              "      <td>73785</td>\n",
              "    </tr>\n",
              "    <tr>\n",
              "      <th>YouTube Trucker Hat</th>\n",
              "      <td>71383</td>\n",
              "    </tr>\n",
              "    <tr>\n",
              "      <th>YouTube Luggage Tag</th>\n",
              "      <td>70514</td>\n",
              "    </tr>\n",
              "    <tr>\n",
              "      <th>YouTube Leatherette Notebook Combo</th>\n",
              "      <td>65191</td>\n",
              "    </tr>\n",
              "    <tr>\n",
              "      <th>YouTube RFID Journal</th>\n",
              "      <td>64090</td>\n",
              "    </tr>\n",
              "    <tr>\n",
              "      <th>YouTube Hard Cover Journal</th>\n",
              "      <td>62935</td>\n",
              "    </tr>\n",
              "    <tr>\n",
              "      <th>24 oz YouTube Sergeant Stripe Bottle</th>\n",
              "      <td>59532</td>\n",
              "    </tr>\n",
              "    <tr>\n",
              "      <th>YouTube Notebook and Pen Set</th>\n",
              "      <td>55934</td>\n",
              "    </tr>\n",
              "    <tr>\n",
              "      <th>YouTube Spiral Journal with Pen</th>\n",
              "      <td>55343</td>\n",
              "    </tr>\n",
              "    <tr>\n",
              "      <th>Google Snapback Hat Black</th>\n",
              "      <td>46261</td>\n",
              "    </tr>\n",
              "    <tr>\n",
              "      <th>Google Men's 100% Cotton Short Sleeve Hero Tee Black</th>\n",
              "      <td>45793</td>\n",
              "    </tr>\n",
              "    <tr>\n",
              "      <th>Google Men's Long Sleeve Raglan Ocean Blue</th>\n",
              "      <td>45718</td>\n",
              "    </tr>\n",
              "    <tr>\n",
              "      <th>YouTube Men's Short Sleeve Hero Tee Black</th>\n",
              "      <td>45096</td>\n",
              "    </tr>\n",
              "    <tr>\n",
              "      <th>Google Men's 100% Cotton Short Sleeve Hero Tee Navy</th>\n",
              "      <td>43572</td>\n",
              "    </tr>\n",
              "    <tr>\n",
              "      <th>Google Twill Cap</th>\n",
              "      <td>43406</td>\n",
              "    </tr>\n",
              "    <tr>\n",
              "      <th>Google Men's Watershed Full Zip Hoodie Grey</th>\n",
              "      <td>43096</td>\n",
              "    </tr>\n",
              "  </tbody>\n",
              "</table>\n",
              "</div>"
            ],
            "text/plain": [
              "                                                    fullVisitorId\n",
              "v2ProductName                                                    \n",
              "Google Men's 100% Cotton Short Sleeve Hero Tee ...          86695\n",
              "YouTube Twill Cap                                           81177\n",
              "YouTube Wool Heather Cap Heather/Black                      79287\n",
              "YouTube Custom Decals                                       75551\n",
              "22 oz YouTube Bottle Infuser                                73785\n",
              "YouTube Trucker Hat                                         71383\n",
              "YouTube Luggage Tag                                         70514\n",
              "YouTube Leatherette Notebook Combo                          65191\n",
              "YouTube RFID Journal                                        64090\n",
              "YouTube Hard Cover Journal                                  62935\n",
              "24 oz YouTube Sergeant Stripe Bottle                        59532\n",
              "YouTube Notebook and Pen Set                                55934\n",
              "YouTube Spiral Journal with Pen                             55343\n",
              "Google Snapback Hat Black                                   46261\n",
              "Google Men's 100% Cotton Short Sleeve Hero Tee ...          45793\n",
              "Google Men's Long Sleeve Raglan Ocean Blue                  45718\n",
              "YouTube Men's Short Sleeve Hero Tee Black                   45096\n",
              "Google Men's 100% Cotton Short Sleeve Hero Tee ...          43572\n",
              "Google Twill Cap                                            43406\n",
              "Google Men's Watershed Full Zip Hoodie Grey                 43096"
            ]
          },
          "metadata": {},
          "execution_count": 12
        }
      ]
    },
    {
      "cell_type": "markdown",
      "metadata": {
        "id": "jg-n1Q70lLSd"
      },
      "source": [
        "ТОП-20 товаров по выручке"
      ]
    },
    {
      "cell_type": "code",
      "metadata": {
        "colab": {
          "base_uri": "https://localhost:8080/",
          "height": 700
        },
        "id": "j9i_jWC9Mqii",
        "outputId": "1f9cc61a-953c-48eb-9055-426c389a89e3"
      },
      "source": [
        "df_2 = total_df.groupby(['v2ProductName'])[['productRevenue','productQuantity']].sum().sort_values(['productRevenue'],ascending=False).head(20)\n",
        "df_2.productRevenue = round(df_2.productRevenue, 2)\n",
        "df_2"
      ],
      "execution_count": null,
      "outputs": [
        {
          "output_type": "execute_result",
          "data": {
            "text/html": [
              "<div>\n",
              "<style scoped>\n",
              "    .dataframe tbody tr th:only-of-type {\n",
              "        vertical-align: middle;\n",
              "    }\n",
              "\n",
              "    .dataframe tbody tr th {\n",
              "        vertical-align: top;\n",
              "    }\n",
              "\n",
              "    .dataframe thead th {\n",
              "        text-align: right;\n",
              "    }\n",
              "</style>\n",
              "<table border=\"1\" class=\"dataframe\">\n",
              "  <thead>\n",
              "    <tr style=\"text-align: right;\">\n",
              "      <th></th>\n",
              "      <th>productRevenue</th>\n",
              "      <th>productQuantity</th>\n",
              "    </tr>\n",
              "    <tr>\n",
              "      <th>v2ProductName</th>\n",
              "      <th></th>\n",
              "      <th></th>\n",
              "    </tr>\n",
              "  </thead>\n",
              "  <tbody>\n",
              "    <tr>\n",
              "      <th>Google Men's  Zip Hoodie</th>\n",
              "      <td>19591.21</td>\n",
              "      <td>2318.0</td>\n",
              "    </tr>\n",
              "    <tr>\n",
              "      <th>Leatherette Journal</th>\n",
              "      <td>18594.39</td>\n",
              "      <td>10834.0</td>\n",
              "    </tr>\n",
              "    <tr>\n",
              "      <th>Google Sunglasses</th>\n",
              "      <td>13898.96</td>\n",
              "      <td>25527.0</td>\n",
              "    </tr>\n",
              "    <tr>\n",
              "      <th>Google Hard Cover Journal</th>\n",
              "      <td>13370.28</td>\n",
              "      <td>9610.0</td>\n",
              "    </tr>\n",
              "    <tr>\n",
              "      <th>Google 22 oz Water Bottle</th>\n",
              "      <td>10195.49</td>\n",
              "      <td>15659.0</td>\n",
              "    </tr>\n",
              "    <tr>\n",
              "      <th>Google 5-Panel Cap</th>\n",
              "      <td>9908.61</td>\n",
              "      <td>3111.0</td>\n",
              "    </tr>\n",
              "    <tr>\n",
              "      <th>Google Men's 100% Cotton Short Sleeve Hero Tee White</th>\n",
              "      <td>9404.66</td>\n",
              "      <td>4677.0</td>\n",
              "    </tr>\n",
              "    <tr>\n",
              "      <th>Red Spiral Google Notebook</th>\n",
              "      <td>9319.96</td>\n",
              "      <td>7020.0</td>\n",
              "    </tr>\n",
              "    <tr>\n",
              "      <th>Google 17oz Stainless Steel Sport Bottle</th>\n",
              "      <td>9279.93</td>\n",
              "      <td>2490.0</td>\n",
              "    </tr>\n",
              "    <tr>\n",
              "      <th>Recycled Paper Journal Set</th>\n",
              "      <td>8794.44</td>\n",
              "      <td>13902.0</td>\n",
              "    </tr>\n",
              "    <tr>\n",
              "      <th>Google Men's Heavyweight Long Sleeve Hero Tee Navy</th>\n",
              "      <td>8680.83</td>\n",
              "      <td>1522.0</td>\n",
              "    </tr>\n",
              "    <tr>\n",
              "      <th>Google Metallic Notebook Set</th>\n",
              "      <td>8023.18</td>\n",
              "      <td>8374.0</td>\n",
              "    </tr>\n",
              "    <tr>\n",
              "      <th>26 oz Double Wall Insulated Bottle</th>\n",
              "      <td>7918.18</td>\n",
              "      <td>3191.0</td>\n",
              "    </tr>\n",
              "    <tr>\n",
              "      <th>20 oz Stainless Steel Insulated Tumbler</th>\n",
              "      <td>7817.07</td>\n",
              "      <td>3068.0</td>\n",
              "    </tr>\n",
              "    <tr>\n",
              "      <th>Google Spiral Journal with Pen</th>\n",
              "      <td>7553.44</td>\n",
              "      <td>4686.0</td>\n",
              "    </tr>\n",
              "    <tr>\n",
              "      <th>Google Rucksack</th>\n",
              "      <td>7482.39</td>\n",
              "      <td>987.0</td>\n",
              "    </tr>\n",
              "    <tr>\n",
              "      <th>Spiral Notebook and Pen Set</th>\n",
              "      <td>7022.99</td>\n",
              "      <td>6130.0</td>\n",
              "    </tr>\n",
              "    <tr>\n",
              "      <th>BLM Sweatshirt</th>\n",
              "      <td>6775.12</td>\n",
              "      <td>843.0</td>\n",
              "    </tr>\n",
              "    <tr>\n",
              "      <th>Collapsible Shopping Bag</th>\n",
              "      <td>6660.07</td>\n",
              "      <td>7645.0</td>\n",
              "    </tr>\n",
              "    <tr>\n",
              "      <th>Sport Bag</th>\n",
              "      <td>6607.81</td>\n",
              "      <td>7046.0</td>\n",
              "    </tr>\n",
              "  </tbody>\n",
              "</table>\n",
              "</div>"
            ],
            "text/plain": [
              "                                                    productRevenue  productQuantity\n",
              "v2ProductName                                                                      \n",
              "Google Men's  Zip Hoodie                                  19591.21           2318.0\n",
              "Leatherette Journal                                       18594.39          10834.0\n",
              "Google Sunglasses                                         13898.96          25527.0\n",
              "Google Hard Cover Journal                                 13370.28           9610.0\n",
              "Google 22 oz Water Bottle                                 10195.49          15659.0\n",
              "Google 5-Panel Cap                                         9908.61           3111.0\n",
              "Google Men's 100% Cotton Short Sleeve Hero Tee ...         9404.66           4677.0\n",
              "Red Spiral Google Notebook                                 9319.96           7020.0\n",
              "Google 17oz Stainless Steel Sport Bottle                   9279.93           2490.0\n",
              "Recycled Paper Journal Set                                 8794.44          13902.0\n",
              "Google Men's Heavyweight Long Sleeve Hero Tee Navy         8680.83           1522.0\n",
              "Google Metallic Notebook Set                               8023.18           8374.0\n",
              "26 oz Double Wall Insulated Bottle                         7918.18           3191.0\n",
              "20 oz Stainless Steel Insulated Tumbler                    7817.07           3068.0\n",
              "Google Spiral Journal with Pen                             7553.44           4686.0\n",
              "Google Rucksack                                            7482.39            987.0\n",
              "Spiral Notebook and Pen Set                                7022.99           6130.0\n",
              "BLM Sweatshirt                                             6775.12            843.0\n",
              "Collapsible Shopping Bag                                   6660.07           7645.0\n",
              "Sport Bag                                                  6607.81           7046.0"
            ]
          },
          "metadata": {},
          "execution_count": 13
        }
      ]
    },
    {
      "cell_type": "markdown",
      "metadata": {
        "id": "0qqYBf_PJC6T"
      },
      "source": [
        "ТОП-5 по источникам трафика"
      ]
    },
    {
      "cell_type": "code",
      "metadata": {
        "colab": {
          "base_uri": "https://localhost:8080/"
        },
        "id": "3-muAVnlcaFZ",
        "outputId": "d9fd43b5-0ee7-4fe0-ed98-d1ca6758bdc0"
      },
      "source": [
        "df_3 = round(total_dataframe['source'].value_counts(normalize=True)*100, 2)\n",
        "df_3.head()"
      ],
      "execution_count": null,
      "outputs": [
        {
          "output_type": "execute_result",
          "data": {
            "text/plain": [
              "(direct)       50.79\n",
              "google         38.39\n",
              "youtube.com     3.74\n",
              "dfa             1.01\n",
              "Partners        0.92\n",
              "Name: source, dtype: float64"
            ]
          },
          "metadata": {},
          "execution_count": 14
        }
      ]
    },
    {
      "cell_type": "markdown",
      "metadata": {
        "id": "kihsLDZ3CZKh"
      },
      "source": [
        "Каналы привлечения:"
      ]
    },
    {
      "cell_type": "code",
      "metadata": {
        "colab": {
          "base_uri": "https://localhost:8080/"
        },
        "id": "xdhjA7PYB8AR",
        "outputId": "a62df0cf-3911-469f-8102-25964fec31ea"
      },
      "source": [
        "df_4 = round(total_dataframe['medium'].value_counts(normalize=True)*100, 2)\n",
        "df_4.head()"
      ],
      "execution_count": null,
      "outputs": [
        {
          "output_type": "execute_result",
          "data": {
            "text/plain": [
              "(none)      50.79\n",
              "organic     36.93\n",
              "referral     8.26\n",
              "cpc          2.05\n",
              "cpm          1.01\n",
              "Name: medium, dtype: float64"
            ]
          },
          "metadata": {},
          "execution_count": 15
        }
      ]
    },
    {
      "cell_type": "markdown",
      "metadata": {
        "id": "dq765GUZAAnO"
      },
      "source": [
        "# RFM анализ"
      ]
    },
    {
      "cell_type": "markdown",
      "metadata": {
        "id": "yBPGar79HWD-"
      },
      "source": [
        "Найдём самую позднюю покупку."
      ]
    },
    {
      "cell_type": "code",
      "metadata": {
        "colab": {
          "base_uri": "https://localhost:8080/"
        },
        "id": "yeCMUZD0HIcR",
        "outputId": "c8208002-0a7f-446b-8be9-9b5b049f673a"
      },
      "source": [
        "total_df.max()"
      ],
      "execution_count": null,
      "outputs": [
        {
          "output_type": "execute_result",
          "data": {
            "text/plain": [
              "fullVisitorId                       9999986437109498564\n",
              "date                                2017-04-30 00:00:00\n",
              "campaign                               Data Share Promo\n",
              "medium                                         referral\n",
              "source                                      youtube.com\n",
              "browser                                       YaBrowser\n",
              "deviceCategory                                   tablet\n",
              "continent                                       Oceania\n",
              "country                                        Zimbabwe\n",
              "pagePath                                 /yourinfo.html\n",
              "productRevenue                                     9496\n",
              "productQuantity                             1.97832e+12\n",
              "productPrice                                      999.5\n",
              "v2ProductCategory             Wearables/Men's T-Shirts/\n",
              "v2ProductName        YouTube Youth Short Sleeve Tee Red\n",
              "month                                             March\n",
              "dtype: object"
            ]
          },
          "metadata": {},
          "execution_count": 16
        }
      ]
    },
    {
      "cell_type": "markdown",
      "metadata": {
        "id": "pFVBW2lLBIS-"
      },
      "source": [
        "Поскольку новизна вычисляется для определённого момента времени, а дата последнего заказа в нашем наборе данных — \n",
        "\n",
        "30 апреля 2017 года\n",
        "\n",
        "Именно эту дату мы будем использовать для расчёта новизны, для чего примем данную дату, как дату текущего дня и извлечем все заказы до этого дня.\n",
        "\n",
        "Создаем переменную в которой будет храниться дата текущего дня, для расчёта новизны. "
      ]
    },
    {
      "cell_type": "code",
      "metadata": {
        "id": "A5PlEemIBIHB"
      },
      "source": [
        "import datetime as dt\n",
        "NOW = dt.datetime(2017, 4, 30)"
      ],
      "execution_count": null,
      "outputs": []
    },
    {
      "cell_type": "markdown",
      "metadata": {
        "id": "3J-awsq0B-Me"
      },
      "source": [
        "Давайте посмотрим, что мы можем использовать из нашей таблицы. По каким показателям мы можем сформировать\n",
        "\n",
        "R - новизну, \n",
        "\n",
        "F - частоту (количество покупок)  \n",
        "\n",
        "М - monetfry.\n",
        "\n",
        "Мы уже поняли, что R будет находиться по **date**, \n",
        "\n",
        "F кол-во покупок мы будем находить через повторяющиеся **transactionId**, его наличие определяет, что покупка была совершена. \n",
        "\n",
        "М - будем суммировать **productRevenue** так же через повторяющийся **fullVisitorId**\n",
        "\n",
        "Покупателя в нашем датасете определяет его fullVisitorId, по нему и будем сегментировать."
      ]
    },
    {
      "cell_type": "markdown",
      "metadata": {
        "id": "pfL_IMDygBTS"
      },
      "source": [
        "Оставим в выборке покупателей fullVisitorId, совершивших покупки. То есть факт покупки определяем по наличию выруски с покупателя, тем самым исключаем случаи возврата или отказа от покупки."
      ]
    },
    {
      "cell_type": "code",
      "metadata": {
        "id": "551Co6XN3RnJ",
        "colab": {
          "base_uri": "https://localhost:8080/",
          "height": 411
        },
        "outputId": "e4fe37cb-f0f8-482d-8aa1-5aad3435e7ee"
      },
      "source": [
        "df = total_df[total_df['productRevenue'] > 0]\n",
        "df.head()"
      ],
      "execution_count": null,
      "outputs": [
        {
          "output_type": "execute_result",
          "data": {
            "text/html": [
              "<div>\n",
              "<style scoped>\n",
              "    .dataframe tbody tr th:only-of-type {\n",
              "        vertical-align: middle;\n",
              "    }\n",
              "\n",
              "    .dataframe tbody tr th {\n",
              "        vertical-align: top;\n",
              "    }\n",
              "\n",
              "    .dataframe thead th {\n",
              "        text-align: right;\n",
              "    }\n",
              "</style>\n",
              "<table border=\"1\" class=\"dataframe\">\n",
              "  <thead>\n",
              "    <tr style=\"text-align: right;\">\n",
              "      <th></th>\n",
              "      <th>fullVisitorId</th>\n",
              "      <th>date</th>\n",
              "      <th>campaign</th>\n",
              "      <th>keyword</th>\n",
              "      <th>medium</th>\n",
              "      <th>source</th>\n",
              "      <th>browser</th>\n",
              "      <th>deviceCategory</th>\n",
              "      <th>continent</th>\n",
              "      <th>country</th>\n",
              "      <th>pagePath</th>\n",
              "      <th>transactionId</th>\n",
              "      <th>productRevenue</th>\n",
              "      <th>productQuantity</th>\n",
              "      <th>productPrice</th>\n",
              "      <th>v2ProductCategory</th>\n",
              "      <th>v2ProductName</th>\n",
              "      <th>month</th>\n",
              "    </tr>\n",
              "  </thead>\n",
              "  <tbody>\n",
              "    <tr>\n",
              "      <th>4602</th>\n",
              "      <td>4162641733520995374</td>\n",
              "      <td>2017-01-30</td>\n",
              "      <td>(not set)</td>\n",
              "      <td>0</td>\n",
              "      <td>(none)</td>\n",
              "      <td>(direct)</td>\n",
              "      <td>Chrome</td>\n",
              "      <td>desktop</td>\n",
              "      <td>Americas</td>\n",
              "      <td>United States</td>\n",
              "      <td>/ordercompleted.html</td>\n",
              "      <td>ORD201701301999</td>\n",
              "      <td>51.790000</td>\n",
              "      <td>1.0</td>\n",
              "      <td>44.79</td>\n",
              "      <td>Apparel</td>\n",
              "      <td>YouTube Women's Fleece Hoodie Black</td>\n",
              "      <td>January</td>\n",
              "    </tr>\n",
              "    <tr>\n",
              "      <th>5934</th>\n",
              "      <td>868383912397841864</td>\n",
              "      <td>2017-01-30</td>\n",
              "      <td>(not set)</td>\n",
              "      <td>0</td>\n",
              "      <td>(none)</td>\n",
              "      <td>(direct)</td>\n",
              "      <td>Chrome</td>\n",
              "      <td>desktop</td>\n",
              "      <td>Americas</td>\n",
              "      <td>Canada</td>\n",
              "      <td>/ordercompleted.html</td>\n",
              "      <td>ORD201701302184</td>\n",
              "      <td>87.960000</td>\n",
              "      <td>4.0</td>\n",
              "      <td>19.99</td>\n",
              "      <td>Drinkware</td>\n",
              "      <td>26 oz Double Wall Insulated Bottle</td>\n",
              "      <td>January</td>\n",
              "    </tr>\n",
              "    <tr>\n",
              "      <th>6295</th>\n",
              "      <td>5206644155829437888</td>\n",
              "      <td>2017-01-30</td>\n",
              "      <td>(not set)</td>\n",
              "      <td>0</td>\n",
              "      <td>(none)</td>\n",
              "      <td>(direct)</td>\n",
              "      <td>Chrome</td>\n",
              "      <td>desktop</td>\n",
              "      <td>Americas</td>\n",
              "      <td>United States</td>\n",
              "      <td>/ordercompleted.html</td>\n",
              "      <td>ORD201701302203</td>\n",
              "      <td>59.990000</td>\n",
              "      <td>1.0</td>\n",
              "      <td>55.99</td>\n",
              "      <td>Apparel</td>\n",
              "      <td>YouTube Men's Fleece Hoodie Black</td>\n",
              "      <td>January</td>\n",
              "    </tr>\n",
              "    <tr>\n",
              "      <th>7023</th>\n",
              "      <td>2607736667163691156</td>\n",
              "      <td>2017-01-30</td>\n",
              "      <td>(not set)</td>\n",
              "      <td>0</td>\n",
              "      <td>(none)</td>\n",
              "      <td>(direct)</td>\n",
              "      <td>Chrome</td>\n",
              "      <td>desktop</td>\n",
              "      <td>Americas</td>\n",
              "      <td>United States</td>\n",
              "      <td>/ordercompleted.html</td>\n",
              "      <td>ORD201701302225</td>\n",
              "      <td>11.656666</td>\n",
              "      <td>1.0</td>\n",
              "      <td>8.99</td>\n",
              "      <td>Drinkware</td>\n",
              "      <td>Engraved Ceramic Google Mug</td>\n",
              "      <td>January</td>\n",
              "    </tr>\n",
              "    <tr>\n",
              "      <th>7024</th>\n",
              "      <td>2607736667163691156</td>\n",
              "      <td>2017-01-30</td>\n",
              "      <td>(not set)</td>\n",
              "      <td>0</td>\n",
              "      <td>(none)</td>\n",
              "      <td>(direct)</td>\n",
              "      <td>Chrome</td>\n",
              "      <td>desktop</td>\n",
              "      <td>Americas</td>\n",
              "      <td>United States</td>\n",
              "      <td>/ordercompleted.html</td>\n",
              "      <td>ORD201701302225</td>\n",
              "      <td>8.166666</td>\n",
              "      <td>1.0</td>\n",
              "      <td>5.50</td>\n",
              "      <td>Office</td>\n",
              "      <td>Google Stylus Pen w/ LED Light</td>\n",
              "      <td>January</td>\n",
              "    </tr>\n",
              "  </tbody>\n",
              "</table>\n",
              "</div>"
            ],
            "text/plain": [
              "            fullVisitorId  ...    month\n",
              "4602  4162641733520995374  ...  January\n",
              "5934   868383912397841864  ...  January\n",
              "6295  5206644155829437888  ...  January\n",
              "7023  2607736667163691156  ...  January\n",
              "7024  2607736667163691156  ...  January\n",
              "\n",
              "[5 rows x 18 columns]"
            ]
          },
          "metadata": {},
          "execution_count": 18
        }
      ]
    },
    {
      "cell_type": "code",
      "metadata": {
        "id": "yvzf8F_JBHgu"
      },
      "source": [
        "rfmTable = df.groupby('fullVisitorId').agg({'date': lambda x: (NOW - x.max()).days, # Recency #Количество дней с последнего заказа\n",
        "                                        'transactionId': lambda x: len(x),      # Frequency #Количество заказов\n",
        "                                        'productRevenue': lambda x: x.sum()}) # Monetary Value #Общая сумма по всем заказам\n",
        "\n",
        "rfmTable['date'] = rfmTable['date'].astype(int)\n",
        "rfmTable.productRevenue = round(rfmTable.productRevenue, 2)\n",
        "rfmTable.rename(columns={'date': 'recency', \n",
        "                         'transactionId': 'frequency', \n",
        "                         'productRevenue': 'monetary_value'}, inplace=True) ### inplace=True - означает, что мы заменяем значения в самом rfmTable, \n",
        "                                                                          ### если ее не указать, выведется измененное значение, а по факту в таблице останется прежнее значение "
      ],
      "execution_count": null,
      "outputs": []
    },
    {
      "cell_type": "code",
      "metadata": {
        "colab": {
          "base_uri": "https://localhost:8080/",
          "height": 450
        },
        "id": "RZqQWAloL2vq",
        "outputId": "7c9e02d5-3773-4a10-fd5c-7e834da019f1"
      },
      "source": [
        "rfmTable"
      ],
      "execution_count": null,
      "outputs": [
        {
          "output_type": "execute_result",
          "data": {
            "text/html": [
              "<div>\n",
              "<style scoped>\n",
              "    .dataframe tbody tr th:only-of-type {\n",
              "        vertical-align: middle;\n",
              "    }\n",
              "\n",
              "    .dataframe tbody tr th {\n",
              "        vertical-align: top;\n",
              "    }\n",
              "\n",
              "    .dataframe thead th {\n",
              "        text-align: right;\n",
              "    }\n",
              "</style>\n",
              "<table border=\"1\" class=\"dataframe\">\n",
              "  <thead>\n",
              "    <tr style=\"text-align: right;\">\n",
              "      <th></th>\n",
              "      <th>recency</th>\n",
              "      <th>frequency</th>\n",
              "      <th>monetary_value</th>\n",
              "    </tr>\n",
              "    <tr>\n",
              "      <th>fullVisitorId</th>\n",
              "      <th></th>\n",
              "      <th></th>\n",
              "      <th></th>\n",
              "    </tr>\n",
              "  </thead>\n",
              "  <tbody>\n",
              "    <tr>\n",
              "      <th>0000213131142648941</th>\n",
              "      <td>2</td>\n",
              "      <td>1</td>\n",
              "      <td>39.59</td>\n",
              "    </tr>\n",
              "    <tr>\n",
              "      <th>0013296981549010416</th>\n",
              "      <td>9</td>\n",
              "      <td>1</td>\n",
              "      <td>25.99</td>\n",
              "    </tr>\n",
              "    <tr>\n",
              "      <th>0014253006455543633</th>\n",
              "      <td>70</td>\n",
              "      <td>1</td>\n",
              "      <td>64.99</td>\n",
              "    </tr>\n",
              "    <tr>\n",
              "      <th>0015950283479889703</th>\n",
              "      <td>63</td>\n",
              "      <td>1</td>\n",
              "      <td>5.50</td>\n",
              "    </tr>\n",
              "    <tr>\n",
              "      <th>0018386080117189534</th>\n",
              "      <td>53</td>\n",
              "      <td>1</td>\n",
              "      <td>18.99</td>\n",
              "    </tr>\n",
              "    <tr>\n",
              "      <th>...</th>\n",
              "      <td>...</td>\n",
              "      <td>...</td>\n",
              "      <td>...</td>\n",
              "    </tr>\n",
              "    <tr>\n",
              "      <th>9982117639715718754</th>\n",
              "      <td>36</td>\n",
              "      <td>2</td>\n",
              "      <td>30.98</td>\n",
              "    </tr>\n",
              "    <tr>\n",
              "      <th>9989795984216871126</th>\n",
              "      <td>83</td>\n",
              "      <td>6</td>\n",
              "      <td>210.72</td>\n",
              "    </tr>\n",
              "    <tr>\n",
              "      <th>9990183617359422098</th>\n",
              "      <td>3</td>\n",
              "      <td>5</td>\n",
              "      <td>159.50</td>\n",
              "    </tr>\n",
              "    <tr>\n",
              "      <th>9990797196896345494</th>\n",
              "      <td>9</td>\n",
              "      <td>3</td>\n",
              "      <td>47.25</td>\n",
              "    </tr>\n",
              "    <tr>\n",
              "      <th>9991633376050115277</th>\n",
              "      <td>72</td>\n",
              "      <td>1</td>\n",
              "      <td>35.59</td>\n",
              "    </tr>\n",
              "  </tbody>\n",
              "</table>\n",
              "<p>2850 rows × 3 columns</p>\n",
              "</div>"
            ],
            "text/plain": [
              "                     recency  frequency  monetary_value\n",
              "fullVisitorId                                          \n",
              "0000213131142648941        2          1           39.59\n",
              "0013296981549010416        9          1           25.99\n",
              "0014253006455543633       70          1           64.99\n",
              "0015950283479889703       63          1            5.50\n",
              "0018386080117189534       53          1           18.99\n",
              "...                      ...        ...             ...\n",
              "9982117639715718754       36          2           30.98\n",
              "9989795984216871126       83          6          210.72\n",
              "9990183617359422098        3          5          159.50\n",
              "9990797196896345494        9          3           47.25\n",
              "9991633376050115277       72          1           35.59\n",
              "\n",
              "[2850 rows x 3 columns]"
            ]
          },
          "metadata": {},
          "execution_count": 20
        }
      ]
    },
    {
      "cell_type": "code",
      "metadata": {
        "colab": {
          "base_uri": "https://localhost:8080/"
        },
        "id": "s3kOXt67XhFq",
        "outputId": "815d4da7-f2c6-400e-c914-0795d1e20801"
      },
      "source": [
        "rfmTable.max()"
      ],
      "execution_count": null,
      "outputs": [
        {
          "output_type": "execute_result",
          "data": {
            "text/plain": [
              "recency              119.00\n",
              "frequency            109.00\n",
              "monetary_value    119329.29\n",
              "dtype: float64"
            ]
          },
          "metadata": {},
          "execution_count": 21
        }
      ]
    },
    {
      "cell_type": "markdown",
      "metadata": {
        "id": "FQaw491JMfHE"
      },
      "source": [
        "На основе этой таблицы мы можем узнать по каждому покупателю:\n",
        "\n",
        "recency - сколько дней прошло с его последней покупки;\n",
        "\n",
        "frequency - сколько он совершил покупок;\n",
        "\n",
        "monetary - и сколько денег он потратил"
      ]
    },
    {
      "cell_type": "markdown",
      "metadata": {
        "id": "U_UhI4DNMh9j"
      },
      "source": [
        "Теперь мы можем сделать разбивку по квантилям. В Python имеется встроенная функция, которая позволит выполнить эту задачу.\n",
        "\n",
        "Распишем на четыре квантиля - 0.25,0.5,0.75; и единица, так как это будет максимальное значение, т.е. самое лучшее значение показателей. Единицу мы не будем вписывать в формулу, но дальше мы будем пользоваться соответствующими  значениями показателей:"
      ]
    },
    {
      "cell_type": "code",
      "metadata": {
        "colab": {
          "base_uri": "https://localhost:8080/",
          "height": 142
        },
        "id": "aVWr7j83Mgcs",
        "outputId": "b9372d4a-9557-4936-c436-c7b8ffb28917"
      },
      "source": [
        "quantiles = rfmTable.quantile(q=[0.25,0.5,0.75])\n",
        "quantiles"
      ],
      "execution_count": null,
      "outputs": [
        {
          "output_type": "execute_result",
          "data": {
            "text/html": [
              "<div>\n",
              "<style scoped>\n",
              "    .dataframe tbody tr th:only-of-type {\n",
              "        vertical-align: middle;\n",
              "    }\n",
              "\n",
              "    .dataframe tbody tr th {\n",
              "        vertical-align: top;\n",
              "    }\n",
              "\n",
              "    .dataframe thead th {\n",
              "        text-align: right;\n",
              "    }\n",
              "</style>\n",
              "<table border=\"1\" class=\"dataframe\">\n",
              "  <thead>\n",
              "    <tr style=\"text-align: right;\">\n",
              "      <th></th>\n",
              "      <th>recency</th>\n",
              "      <th>frequency</th>\n",
              "      <th>monetary_value</th>\n",
              "    </tr>\n",
              "  </thead>\n",
              "  <tbody>\n",
              "    <tr>\n",
              "      <th>0.25</th>\n",
              "      <td>24.0</td>\n",
              "      <td>1.0</td>\n",
              "      <td>28.990</td>\n",
              "    </tr>\n",
              "    <tr>\n",
              "      <th>0.50</th>\n",
              "      <td>52.0</td>\n",
              "      <td>2.0</td>\n",
              "      <td>56.000</td>\n",
              "    </tr>\n",
              "    <tr>\n",
              "      <th>0.75</th>\n",
              "      <td>83.0</td>\n",
              "      <td>4.0</td>\n",
              "      <td>121.755</td>\n",
              "    </tr>\n",
              "  </tbody>\n",
              "</table>\n",
              "</div>"
            ],
            "text/plain": [
              "      recency  frequency  monetary_value\n",
              "0.25     24.0        1.0          28.990\n",
              "0.50     52.0        2.0          56.000\n",
              "0.75     83.0        4.0         121.755"
            ]
          },
          "metadata": {},
          "execution_count": 22
        }
      ]
    },
    {
      "cell_type": "markdown",
      "metadata": {
        "id": "nBKS_fpaQDuv"
      },
      "source": [
        "Чтобы нам было удобнее работать дальше с этими данными, их необходимо преобразовать в словарь."
      ]
    },
    {
      "cell_type": "code",
      "metadata": {
        "colab": {
          "base_uri": "https://localhost:8080/"
        },
        "id": "_7_kIXxnMrZl",
        "outputId": "c668b949-877d-4cec-ec54-9fba8a276b20"
      },
      "source": [
        "quantiles = quantiles.to_dict()\n",
        "quantiles"
      ],
      "execution_count": null,
      "outputs": [
        {
          "output_type": "execute_result",
          "data": {
            "text/plain": [
              "{'frequency': {0.25: 1.0, 0.5: 2.0, 0.75: 4.0},\n",
              " 'monetary_value': {0.25: 28.99, 0.5: 56.0, 0.75: 121.75500000000001},\n",
              " 'recency': {0.25: 24.0, 0.5: 52.0, 0.75: 83.0}}"
            ]
          },
          "metadata": {},
          "execution_count": 23
        }
      ]
    },
    {
      "cell_type": "markdown",
      "metadata": {
        "id": "__SAAo4VjbpZ"
      },
      "source": [
        "# Создадим таблицу сегментации RFM"
      ]
    },
    {
      "cell_type": "code",
      "metadata": {
        "colab": {
          "base_uri": "https://localhost:8080/",
          "height": 450
        },
        "id": "UMddJgtEjcLl",
        "outputId": "f57888cf-c3d2-4a06-9506-405cae94e212"
      },
      "source": [
        "rfmSegmentation = rfmTable\n",
        "rfmSegmentation"
      ],
      "execution_count": null,
      "outputs": [
        {
          "output_type": "execute_result",
          "data": {
            "text/html": [
              "<div>\n",
              "<style scoped>\n",
              "    .dataframe tbody tr th:only-of-type {\n",
              "        vertical-align: middle;\n",
              "    }\n",
              "\n",
              "    .dataframe tbody tr th {\n",
              "        vertical-align: top;\n",
              "    }\n",
              "\n",
              "    .dataframe thead th {\n",
              "        text-align: right;\n",
              "    }\n",
              "</style>\n",
              "<table border=\"1\" class=\"dataframe\">\n",
              "  <thead>\n",
              "    <tr style=\"text-align: right;\">\n",
              "      <th></th>\n",
              "      <th>recency</th>\n",
              "      <th>frequency</th>\n",
              "      <th>monetary_value</th>\n",
              "    </tr>\n",
              "    <tr>\n",
              "      <th>fullVisitorId</th>\n",
              "      <th></th>\n",
              "      <th></th>\n",
              "      <th></th>\n",
              "    </tr>\n",
              "  </thead>\n",
              "  <tbody>\n",
              "    <tr>\n",
              "      <th>0000213131142648941</th>\n",
              "      <td>2</td>\n",
              "      <td>1</td>\n",
              "      <td>39.59</td>\n",
              "    </tr>\n",
              "    <tr>\n",
              "      <th>0013296981549010416</th>\n",
              "      <td>9</td>\n",
              "      <td>1</td>\n",
              "      <td>25.99</td>\n",
              "    </tr>\n",
              "    <tr>\n",
              "      <th>0014253006455543633</th>\n",
              "      <td>70</td>\n",
              "      <td>1</td>\n",
              "      <td>64.99</td>\n",
              "    </tr>\n",
              "    <tr>\n",
              "      <th>0015950283479889703</th>\n",
              "      <td>63</td>\n",
              "      <td>1</td>\n",
              "      <td>5.50</td>\n",
              "    </tr>\n",
              "    <tr>\n",
              "      <th>0018386080117189534</th>\n",
              "      <td>53</td>\n",
              "      <td>1</td>\n",
              "      <td>18.99</td>\n",
              "    </tr>\n",
              "    <tr>\n",
              "      <th>...</th>\n",
              "      <td>...</td>\n",
              "      <td>...</td>\n",
              "      <td>...</td>\n",
              "    </tr>\n",
              "    <tr>\n",
              "      <th>9982117639715718754</th>\n",
              "      <td>36</td>\n",
              "      <td>2</td>\n",
              "      <td>30.98</td>\n",
              "    </tr>\n",
              "    <tr>\n",
              "      <th>9989795984216871126</th>\n",
              "      <td>83</td>\n",
              "      <td>6</td>\n",
              "      <td>210.72</td>\n",
              "    </tr>\n",
              "    <tr>\n",
              "      <th>9990183617359422098</th>\n",
              "      <td>3</td>\n",
              "      <td>5</td>\n",
              "      <td>159.50</td>\n",
              "    </tr>\n",
              "    <tr>\n",
              "      <th>9990797196896345494</th>\n",
              "      <td>9</td>\n",
              "      <td>3</td>\n",
              "      <td>47.25</td>\n",
              "    </tr>\n",
              "    <tr>\n",
              "      <th>9991633376050115277</th>\n",
              "      <td>72</td>\n",
              "      <td>1</td>\n",
              "      <td>35.59</td>\n",
              "    </tr>\n",
              "  </tbody>\n",
              "</table>\n",
              "<p>2850 rows × 3 columns</p>\n",
              "</div>"
            ],
            "text/plain": [
              "                     recency  frequency  monetary_value\n",
              "fullVisitorId                                          \n",
              "0000213131142648941        2          1           39.59\n",
              "0013296981549010416        9          1           25.99\n",
              "0014253006455543633       70          1           64.99\n",
              "0015950283479889703       63          1            5.50\n",
              "0018386080117189534       53          1           18.99\n",
              "...                      ...        ...             ...\n",
              "9982117639715718754       36          2           30.98\n",
              "9989795984216871126       83          6          210.72\n",
              "9990183617359422098        3          5          159.50\n",
              "9990797196896345494        9          3           47.25\n",
              "9991633376050115277       72          1           35.59\n",
              "\n",
              "[2850 rows x 3 columns]"
            ]
          },
          "metadata": {},
          "execution_count": 24
        }
      ]
    },
    {
      "cell_type": "markdown",
      "metadata": {
        "id": "p_l1H9u_juPH"
      },
      "source": [
        "Чтобы распределить покупателей по квантилям, напишем две функции. Здесь важно учесть, что показатель давности покупки будет лучше, если он меньше, поэтому создадим с вами две отдельные функции. Одна функция будет работать с показателем R, другая — с F и M, т.е. для нибольших значений частоты и суммы покупок будет возвращаться \"1\" - первое место."
      ]
    },
    {
      "cell_type": "code",
      "metadata": {
        "id": "wPhXUTJ4jm59"
      },
      "source": [
        "# Arguments (x = value, p = recency, monetary_value, frequency, d = quartiles dict)\n",
        "def RClass(x,p,d):\n",
        "    if x <= d[p][0.25]:\n",
        "        return 1\n",
        "    elif x <= d[p][0.50]:\n",
        "        return 2\n",
        "    elif x <= d[p][0.75]: \n",
        "        return 3\n",
        "    else:\n",
        "        return 4\n",
        "# Arguments (x = value, p = recency, monetary_value, frequency, d = quartiles dict)\n",
        "def FMClass(x,p,d):\n",
        "    if x <= d[p][0.25]:\n",
        "        return 4\n",
        "    elif x <= d[p][0.50]:\n",
        "        return 3\n",
        "    elif x <= d[p][0.75]: \n",
        "        return 2\n",
        "    else:\n",
        "        return 1"
      ],
      "execution_count": null,
      "outputs": []
    },
    {
      "cell_type": "code",
      "metadata": {
        "colab": {
          "base_uri": "https://localhost:8080/",
          "height": 450
        },
        "id": "Vu_NY4YRj_ZV",
        "outputId": "9663eabb-9c36-4171-ab4b-7b35dec42edb"
      },
      "source": [
        "rfmSegmentation['R_Quartile'] = rfmSegmentation['recency'].apply(RClass, args=('recency',quantiles))\n",
        "\n",
        "rfmSegmentation['F_Quartile'] = rfmSegmentation['frequency'].apply(FMClass, args=('frequency',quantiles))\n",
        "\n",
        "rfmSegmentation['M_Quartile'] = rfmSegmentation['monetary_value'].apply(FMClass, args=('monetary_value',quantiles))\n",
        "rfmSegmentation"
      ],
      "execution_count": null,
      "outputs": [
        {
          "output_type": "execute_result",
          "data": {
            "text/html": [
              "<div>\n",
              "<style scoped>\n",
              "    .dataframe tbody tr th:only-of-type {\n",
              "        vertical-align: middle;\n",
              "    }\n",
              "\n",
              "    .dataframe tbody tr th {\n",
              "        vertical-align: top;\n",
              "    }\n",
              "\n",
              "    .dataframe thead th {\n",
              "        text-align: right;\n",
              "    }\n",
              "</style>\n",
              "<table border=\"1\" class=\"dataframe\">\n",
              "  <thead>\n",
              "    <tr style=\"text-align: right;\">\n",
              "      <th></th>\n",
              "      <th>recency</th>\n",
              "      <th>frequency</th>\n",
              "      <th>monetary_value</th>\n",
              "      <th>R_Quartile</th>\n",
              "      <th>F_Quartile</th>\n",
              "      <th>M_Quartile</th>\n",
              "    </tr>\n",
              "    <tr>\n",
              "      <th>fullVisitorId</th>\n",
              "      <th></th>\n",
              "      <th></th>\n",
              "      <th></th>\n",
              "      <th></th>\n",
              "      <th></th>\n",
              "      <th></th>\n",
              "    </tr>\n",
              "  </thead>\n",
              "  <tbody>\n",
              "    <tr>\n",
              "      <th>0000213131142648941</th>\n",
              "      <td>2</td>\n",
              "      <td>1</td>\n",
              "      <td>39.59</td>\n",
              "      <td>1</td>\n",
              "      <td>4</td>\n",
              "      <td>3</td>\n",
              "    </tr>\n",
              "    <tr>\n",
              "      <th>0013296981549010416</th>\n",
              "      <td>9</td>\n",
              "      <td>1</td>\n",
              "      <td>25.99</td>\n",
              "      <td>1</td>\n",
              "      <td>4</td>\n",
              "      <td>4</td>\n",
              "    </tr>\n",
              "    <tr>\n",
              "      <th>0014253006455543633</th>\n",
              "      <td>70</td>\n",
              "      <td>1</td>\n",
              "      <td>64.99</td>\n",
              "      <td>3</td>\n",
              "      <td>4</td>\n",
              "      <td>2</td>\n",
              "    </tr>\n",
              "    <tr>\n",
              "      <th>0015950283479889703</th>\n",
              "      <td>63</td>\n",
              "      <td>1</td>\n",
              "      <td>5.50</td>\n",
              "      <td>3</td>\n",
              "      <td>4</td>\n",
              "      <td>4</td>\n",
              "    </tr>\n",
              "    <tr>\n",
              "      <th>0018386080117189534</th>\n",
              "      <td>53</td>\n",
              "      <td>1</td>\n",
              "      <td>18.99</td>\n",
              "      <td>3</td>\n",
              "      <td>4</td>\n",
              "      <td>4</td>\n",
              "    </tr>\n",
              "    <tr>\n",
              "      <th>...</th>\n",
              "      <td>...</td>\n",
              "      <td>...</td>\n",
              "      <td>...</td>\n",
              "      <td>...</td>\n",
              "      <td>...</td>\n",
              "      <td>...</td>\n",
              "    </tr>\n",
              "    <tr>\n",
              "      <th>9982117639715718754</th>\n",
              "      <td>36</td>\n",
              "      <td>2</td>\n",
              "      <td>30.98</td>\n",
              "      <td>2</td>\n",
              "      <td>3</td>\n",
              "      <td>3</td>\n",
              "    </tr>\n",
              "    <tr>\n",
              "      <th>9989795984216871126</th>\n",
              "      <td>83</td>\n",
              "      <td>6</td>\n",
              "      <td>210.72</td>\n",
              "      <td>3</td>\n",
              "      <td>1</td>\n",
              "      <td>1</td>\n",
              "    </tr>\n",
              "    <tr>\n",
              "      <th>9990183617359422098</th>\n",
              "      <td>3</td>\n",
              "      <td>5</td>\n",
              "      <td>159.50</td>\n",
              "      <td>1</td>\n",
              "      <td>1</td>\n",
              "      <td>1</td>\n",
              "    </tr>\n",
              "    <tr>\n",
              "      <th>9990797196896345494</th>\n",
              "      <td>9</td>\n",
              "      <td>3</td>\n",
              "      <td>47.25</td>\n",
              "      <td>1</td>\n",
              "      <td>2</td>\n",
              "      <td>3</td>\n",
              "    </tr>\n",
              "    <tr>\n",
              "      <th>9991633376050115277</th>\n",
              "      <td>72</td>\n",
              "      <td>1</td>\n",
              "      <td>35.59</td>\n",
              "      <td>3</td>\n",
              "      <td>4</td>\n",
              "      <td>3</td>\n",
              "    </tr>\n",
              "  </tbody>\n",
              "</table>\n",
              "<p>2850 rows × 6 columns</p>\n",
              "</div>"
            ],
            "text/plain": [
              "                     recency  frequency  ...  F_Quartile  M_Quartile\n",
              "fullVisitorId                            ...                        \n",
              "0000213131142648941        2          1  ...           4           3\n",
              "0013296981549010416        9          1  ...           4           4\n",
              "0014253006455543633       70          1  ...           4           2\n",
              "0015950283479889703       63          1  ...           4           4\n",
              "0018386080117189534       53          1  ...           4           4\n",
              "...                      ...        ...  ...         ...         ...\n",
              "9982117639715718754       36          2  ...           3           3\n",
              "9989795984216871126       83          6  ...           1           1\n",
              "9990183617359422098        3          5  ...           1           1\n",
              "9990797196896345494        9          3  ...           2           3\n",
              "9991633376050115277       72          1  ...           4           3\n",
              "\n",
              "[2850 rows x 6 columns]"
            ]
          },
          "metadata": {},
          "execution_count": 26
        }
      ]
    },
    {
      "cell_type": "markdown",
      "metadata": {
        "id": "gdCtpkXDkNvR"
      },
      "source": [
        "Теперь можем получить итоговое значение и получим столбец, где все значения указаны вместе:"
      ]
    },
    {
      "cell_type": "code",
      "metadata": {
        "colab": {
          "base_uri": "https://localhost:8080/",
          "height": 450
        },
        "id": "mGuokeF1kBBt",
        "outputId": "47f02057-a47e-4d3c-f0cd-8aaf72fbfc71"
      },
      "source": [
        "rfmSegmentation['RFMClass'] = rfmSegmentation.R_Quartile.map(str) \\\n",
        "                            + rfmSegmentation.F_Quartile.map(str) \\\n",
        "                            + rfmSegmentation.M_Quartile.map(str)\n",
        "rfmSegmentation"
      ],
      "execution_count": null,
      "outputs": [
        {
          "output_type": "execute_result",
          "data": {
            "text/html": [
              "<div>\n",
              "<style scoped>\n",
              "    .dataframe tbody tr th:only-of-type {\n",
              "        vertical-align: middle;\n",
              "    }\n",
              "\n",
              "    .dataframe tbody tr th {\n",
              "        vertical-align: top;\n",
              "    }\n",
              "\n",
              "    .dataframe thead th {\n",
              "        text-align: right;\n",
              "    }\n",
              "</style>\n",
              "<table border=\"1\" class=\"dataframe\">\n",
              "  <thead>\n",
              "    <tr style=\"text-align: right;\">\n",
              "      <th></th>\n",
              "      <th>recency</th>\n",
              "      <th>frequency</th>\n",
              "      <th>monetary_value</th>\n",
              "      <th>R_Quartile</th>\n",
              "      <th>F_Quartile</th>\n",
              "      <th>M_Quartile</th>\n",
              "      <th>RFMClass</th>\n",
              "    </tr>\n",
              "    <tr>\n",
              "      <th>fullVisitorId</th>\n",
              "      <th></th>\n",
              "      <th></th>\n",
              "      <th></th>\n",
              "      <th></th>\n",
              "      <th></th>\n",
              "      <th></th>\n",
              "      <th></th>\n",
              "    </tr>\n",
              "  </thead>\n",
              "  <tbody>\n",
              "    <tr>\n",
              "      <th>0000213131142648941</th>\n",
              "      <td>2</td>\n",
              "      <td>1</td>\n",
              "      <td>39.59</td>\n",
              "      <td>1</td>\n",
              "      <td>4</td>\n",
              "      <td>3</td>\n",
              "      <td>143</td>\n",
              "    </tr>\n",
              "    <tr>\n",
              "      <th>0013296981549010416</th>\n",
              "      <td>9</td>\n",
              "      <td>1</td>\n",
              "      <td>25.99</td>\n",
              "      <td>1</td>\n",
              "      <td>4</td>\n",
              "      <td>4</td>\n",
              "      <td>144</td>\n",
              "    </tr>\n",
              "    <tr>\n",
              "      <th>0014253006455543633</th>\n",
              "      <td>70</td>\n",
              "      <td>1</td>\n",
              "      <td>64.99</td>\n",
              "      <td>3</td>\n",
              "      <td>4</td>\n",
              "      <td>2</td>\n",
              "      <td>342</td>\n",
              "    </tr>\n",
              "    <tr>\n",
              "      <th>0015950283479889703</th>\n",
              "      <td>63</td>\n",
              "      <td>1</td>\n",
              "      <td>5.50</td>\n",
              "      <td>3</td>\n",
              "      <td>4</td>\n",
              "      <td>4</td>\n",
              "      <td>344</td>\n",
              "    </tr>\n",
              "    <tr>\n",
              "      <th>0018386080117189534</th>\n",
              "      <td>53</td>\n",
              "      <td>1</td>\n",
              "      <td>18.99</td>\n",
              "      <td>3</td>\n",
              "      <td>4</td>\n",
              "      <td>4</td>\n",
              "      <td>344</td>\n",
              "    </tr>\n",
              "    <tr>\n",
              "      <th>...</th>\n",
              "      <td>...</td>\n",
              "      <td>...</td>\n",
              "      <td>...</td>\n",
              "      <td>...</td>\n",
              "      <td>...</td>\n",
              "      <td>...</td>\n",
              "      <td>...</td>\n",
              "    </tr>\n",
              "    <tr>\n",
              "      <th>9982117639715718754</th>\n",
              "      <td>36</td>\n",
              "      <td>2</td>\n",
              "      <td>30.98</td>\n",
              "      <td>2</td>\n",
              "      <td>3</td>\n",
              "      <td>3</td>\n",
              "      <td>233</td>\n",
              "    </tr>\n",
              "    <tr>\n",
              "      <th>9989795984216871126</th>\n",
              "      <td>83</td>\n",
              "      <td>6</td>\n",
              "      <td>210.72</td>\n",
              "      <td>3</td>\n",
              "      <td>1</td>\n",
              "      <td>1</td>\n",
              "      <td>311</td>\n",
              "    </tr>\n",
              "    <tr>\n",
              "      <th>9990183617359422098</th>\n",
              "      <td>3</td>\n",
              "      <td>5</td>\n",
              "      <td>159.50</td>\n",
              "      <td>1</td>\n",
              "      <td>1</td>\n",
              "      <td>1</td>\n",
              "      <td>111</td>\n",
              "    </tr>\n",
              "    <tr>\n",
              "      <th>9990797196896345494</th>\n",
              "      <td>9</td>\n",
              "      <td>3</td>\n",
              "      <td>47.25</td>\n",
              "      <td>1</td>\n",
              "      <td>2</td>\n",
              "      <td>3</td>\n",
              "      <td>123</td>\n",
              "    </tr>\n",
              "    <tr>\n",
              "      <th>9991633376050115277</th>\n",
              "      <td>72</td>\n",
              "      <td>1</td>\n",
              "      <td>35.59</td>\n",
              "      <td>3</td>\n",
              "      <td>4</td>\n",
              "      <td>3</td>\n",
              "      <td>343</td>\n",
              "    </tr>\n",
              "  </tbody>\n",
              "</table>\n",
              "<p>2850 rows × 7 columns</p>\n",
              "</div>"
            ],
            "text/plain": [
              "                     recency  frequency  ...  M_Quartile  RFMClass\n",
              "fullVisitorId                            ...                      \n",
              "0000213131142648941        2          1  ...           3       143\n",
              "0013296981549010416        9          1  ...           4       144\n",
              "0014253006455543633       70          1  ...           2       342\n",
              "0015950283479889703       63          1  ...           4       344\n",
              "0018386080117189534       53          1  ...           4       344\n",
              "...                      ...        ...  ...         ...       ...\n",
              "9982117639715718754       36          2  ...           3       233\n",
              "9989795984216871126       83          6  ...           1       311\n",
              "9990183617359422098        3          5  ...           1       111\n",
              "9990797196896345494        9          3  ...           3       123\n",
              "9991633376050115277       72          1  ...           3       343\n",
              "\n",
              "[2850 rows x 7 columns]"
            ]
          },
          "metadata": {},
          "execution_count": 27
        }
      ]
    },
    {
      "cell_type": "markdown",
      "metadata": {
        "id": "HqdMaGiCk1RL"
      },
      "source": [
        "Теперь эту таблицу мы можем анализировать, делать выводы, каких покупателей нужно лучше привлекать, на каких нужно ориентироваться, подумать о возможных способах привлечения тех покупателей, которые у нас давно не покупали, но, допустим, тратили достаточное кол-во денег на покупки.\n",
        "\n",
        "По показателю RFM = 111 определим самых лояльных покупателей, это - 119 человек\n",
        "\n",
        "По номеру fullVisitorId можно определить покупателей, на которых надо ориентироваться при проведении рекламных кампаний и акций для удержания постоянных покупателей."
      ]
    },
    {
      "cell_type": "code",
      "metadata": {
        "colab": {
          "base_uri": "https://localhost:8080/",
          "height": 450
        },
        "id": "oyqu4nZYkMAl",
        "outputId": "46af224b-e118-4213-c86c-9eb38dc334fd"
      },
      "source": [
        "fmSegmentation[rfmSegmentation['RFMClass'] == '111'].sort_values('monetary_value', ascending = False)"
      ],
      "execution_count": null,
      "outputs": [
        {
          "output_type": "execute_result",
          "data": {
            "text/html": [
              "<div>\n",
              "<style scoped>\n",
              "    .dataframe tbody tr th:only-of-type {\n",
              "        vertical-align: middle;\n",
              "    }\n",
              "\n",
              "    .dataframe tbody tr th {\n",
              "        vertical-align: top;\n",
              "    }\n",
              "\n",
              "    .dataframe thead th {\n",
              "        text-align: right;\n",
              "    }\n",
              "</style>\n",
              "<table border=\"1\" class=\"dataframe\">\n",
              "  <thead>\n",
              "    <tr style=\"text-align: right;\">\n",
              "      <th></th>\n",
              "      <th>recency</th>\n",
              "      <th>frequency</th>\n",
              "      <th>monetary_value</th>\n",
              "      <th>R_Quartile</th>\n",
              "      <th>F_Quartile</th>\n",
              "      <th>M_Quartile</th>\n",
              "      <th>RFMClass</th>\n",
              "    </tr>\n",
              "    <tr>\n",
              "      <th>fullVisitorId</th>\n",
              "      <th></th>\n",
              "      <th></th>\n",
              "      <th></th>\n",
              "      <th></th>\n",
              "      <th></th>\n",
              "      <th></th>\n",
              "      <th></th>\n",
              "    </tr>\n",
              "  </thead>\n",
              "  <tbody>\n",
              "    <tr>\n",
              "      <th>1957458976293878100</th>\n",
              "      <td>11</td>\n",
              "      <td>109</td>\n",
              "      <td>119329.29</td>\n",
              "      <td>1</td>\n",
              "      <td>1</td>\n",
              "      <td>1</td>\n",
              "      <td>111</td>\n",
              "    </tr>\n",
              "    <tr>\n",
              "      <th>4471415710206918415</th>\n",
              "      <td>3</td>\n",
              "      <td>5</td>\n",
              "      <td>9407.30</td>\n",
              "      <td>1</td>\n",
              "      <td>1</td>\n",
              "      <td>1</td>\n",
              "      <td>111</td>\n",
              "    </tr>\n",
              "    <tr>\n",
              "      <th>6226617329849661943</th>\n",
              "      <td>9</td>\n",
              "      <td>29</td>\n",
              "      <td>6976.70</td>\n",
              "      <td>1</td>\n",
              "      <td>1</td>\n",
              "      <td>1</td>\n",
              "      <td>111</td>\n",
              "    </tr>\n",
              "    <tr>\n",
              "      <th>9089132392240687728</th>\n",
              "      <td>24</td>\n",
              "      <td>35</td>\n",
              "      <td>6243.65</td>\n",
              "      <td>1</td>\n",
              "      <td>1</td>\n",
              "      <td>1</td>\n",
              "      <td>111</td>\n",
              "    </tr>\n",
              "    <tr>\n",
              "      <th>3769632740374536577</th>\n",
              "      <td>3</td>\n",
              "      <td>10</td>\n",
              "      <td>4274.00</td>\n",
              "      <td>1</td>\n",
              "      <td>1</td>\n",
              "      <td>1</td>\n",
              "      <td>111</td>\n",
              "    </tr>\n",
              "    <tr>\n",
              "      <th>...</th>\n",
              "      <td>...</td>\n",
              "      <td>...</td>\n",
              "      <td>...</td>\n",
              "      <td>...</td>\n",
              "      <td>...</td>\n",
              "      <td>...</td>\n",
              "      <td>...</td>\n",
              "    </tr>\n",
              "    <tr>\n",
              "      <th>7290041530133609917</th>\n",
              "      <td>18</td>\n",
              "      <td>12</td>\n",
              "      <td>126.07</td>\n",
              "      <td>1</td>\n",
              "      <td>1</td>\n",
              "      <td>1</td>\n",
              "      <td>111</td>\n",
              "    </tr>\n",
              "    <tr>\n",
              "      <th>4548268602116445081</th>\n",
              "      <td>12</td>\n",
              "      <td>5</td>\n",
              "      <td>125.80</td>\n",
              "      <td>1</td>\n",
              "      <td>1</td>\n",
              "      <td>1</td>\n",
              "      <td>111</td>\n",
              "    </tr>\n",
              "    <tr>\n",
              "      <th>7296264109687715813</th>\n",
              "      <td>23</td>\n",
              "      <td>7</td>\n",
              "      <td>125.80</td>\n",
              "      <td>1</td>\n",
              "      <td>1</td>\n",
              "      <td>1</td>\n",
              "      <td>111</td>\n",
              "    </tr>\n",
              "    <tr>\n",
              "      <th>5844499585021930653</th>\n",
              "      <td>24</td>\n",
              "      <td>10</td>\n",
              "      <td>122.32</td>\n",
              "      <td>1</td>\n",
              "      <td>1</td>\n",
              "      <td>1</td>\n",
              "      <td>111</td>\n",
              "    </tr>\n",
              "    <tr>\n",
              "      <th>5205547777184804145</th>\n",
              "      <td>21</td>\n",
              "      <td>11</td>\n",
              "      <td>122.12</td>\n",
              "      <td>1</td>\n",
              "      <td>1</td>\n",
              "      <td>1</td>\n",
              "      <td>111</td>\n",
              "    </tr>\n",
              "  </tbody>\n",
              "</table>\n",
              "<p>119 rows × 7 columns</p>\n",
              "</div>"
            ],
            "text/plain": [
              "                     recency  frequency  ...  M_Quartile  RFMClass\n",
              "fullVisitorId                            ...                      \n",
              "1957458976293878100       11        109  ...           1       111\n",
              "4471415710206918415        3          5  ...           1       111\n",
              "6226617329849661943        9         29  ...           1       111\n",
              "9089132392240687728       24         35  ...           1       111\n",
              "3769632740374536577        3         10  ...           1       111\n",
              "...                      ...        ...  ...         ...       ...\n",
              "7290041530133609917       18         12  ...           1       111\n",
              "4548268602116445081       12          5  ...           1       111\n",
              "7296264109687715813       23          7  ...           1       111\n",
              "5844499585021930653       24         10  ...           1       111\n",
              "5205547777184804145       21         11  ...           1       111\n",
              "\n",
              "[119 rows x 7 columns]"
            ]
          },
          "metadata": {},
          "execution_count": 28
        }
      ]
    },
    {
      "cell_type": "markdown",
      "metadata": {
        "id": "IG1dPm-zC-J5"
      },
      "source": [
        "# Построение визуализаций"
      ]
    },
    {
      "cell_type": "code",
      "metadata": {
        "id": "GOUyK8eQDDVq"
      },
      "source": [
        "rfm = rfmSegmentation"
      ],
      "execution_count": null,
      "outputs": []
    },
    {
      "cell_type": "code",
      "metadata": {
        "id": "dZLTpG4mDH72"
      },
      "source": [
        "import matplotlib.pyplot as plt\n",
        "import seaborn as sns\n",
        "%matplotlib inline"
      ],
      "execution_count": null,
      "outputs": []
    },
    {
      "cell_type": "code",
      "metadata": {
        "colab": {
          "base_uri": "https://localhost:8080/",
          "height": 296
        },
        "id": "86DXA346DLNk",
        "outputId": "a4d90888-77d0-40fe-db5b-3c0bd72820f4"
      },
      "source": [
        "rfm.plot()"
      ],
      "execution_count": null,
      "outputs": [
        {
          "output_type": "execute_result",
          "data": {
            "text/plain": [
              "<matplotlib.axes._subplots.AxesSubplot at 0x7f290eeb1d10>"
            ]
          },
          "metadata": {},
          "execution_count": 31
        },
        {
          "output_type": "display_data",
          "data": {
            "image/png": "[encoded data removed]",
            "text/plain": [
              "<Figure size 432x288 with 1 Axes>"
            ]
          },
          "metadata": {
            "needs_background": "light"
          }
        }
      ]
    },
    {
      "cell_type": "code",
      "metadata": {
        "id": "UyKhGM1eDU-i"
      },
      "source": [
        "sns.set()"
      ],
      "execution_count": null,
      "outputs": []
    },
    {
      "cell_type": "code",
      "metadata": {
        "colab": {
          "base_uri": "https://localhost:8080/",
          "height": 302
        },
        "id": "Bgqsq7pdDXn-",
        "outputId": "23781e14-678b-4f61-b0dc-8479b2e97e96"
      },
      "source": [
        "rfm.plot()"
      ],
      "execution_count": null,
      "outputs": [
        {
          "output_type": "execute_result",
          "data": {
            "text/plain": [
              "<matplotlib.axes._subplots.AxesSubplot at 0x7f290e916e10>"
            ]
          },
          "metadata": {},
          "execution_count": 33
        },
        {
          "output_type": "display_data",
          "data": {
            "image/png": "[encoded data removed]",
            "text/plain": [
              "<Figure size 432x288 with 1 Axes>"
            ]
          },
          "metadata": {}
        }
      ]
    },
    {
      "cell_type": "code",
      "metadata": {
        "colab": {
          "base_uri": "https://localhost:8080/",
          "height": 1000
        },
        "id": "licm3ZB5De_X",
        "outputId": "972aecb5-4a6c-47ff-f22c-52bcff226c7b"
      },
      "source": [
        "sns.pairplot(rfm)"
      ],
      "execution_count": null,
      "outputs": [
        {
          "output_type": "execute_result",
          "data": {
            "text/plain": [
              "<seaborn.axisgrid.PairGrid at 0x7f290e916f50>"
            ]
          },
          "metadata": {},
          "execution_count": 34
        },
        {
          "output_type": "display_data",
          "data": {
            "image/png": "[encoded data removed]",
            "text/plain": [
              "<Figure size 1080x1080 with 42 Axes>"
            ]
          },
          "metadata": {}
        }
      ]
    },
    {
      "cell_type": "code",
      "metadata": {
        "colab": {
          "base_uri": "https://localhost:8080/",
          "height": 355
        },
        "id": "B41_aGPSD5xq",
        "outputId": "27fdf6d1-6e4e-4f6e-b6b4-a11248963e2e"
      },
      "source": [
        "fig = plt.figure()\n",
        "axes1 = fig.add_axes([0,0,1,1])\n",
        "\n",
        "axes1.bar(x = ['1', '2', '3', '4'], height = rfm['R_Quartile'].value_counts())"
      ],
      "execution_count": null,
      "outputs": [
        {
          "output_type": "execute_result",
          "data": {
            "text/plain": [
              "<BarContainer object of 4 artists>"
            ]
          },
          "metadata": {},
          "execution_count": 35
        },
        {
          "output_type": "display_data",
          "data": {
            "image/png": "[encoded data removed]",
            "text/plain": [
              "<Figure size 432x288 with 1 Axes>"
            ]
          },
          "metadata": {}
        }
      ]
    },
    {
      "cell_type": "markdown",
      "metadata": {
        "id": "Mn1vs0NUERD8"
      },
      "source": [
        "Вывод: распределение по категориям параметра R \n",
        "\n",
        "(последнее действие на сайте)достаточно равномерное "
      ]
    },
    {
      "cell_type": "code",
      "metadata": {
        "colab": {
          "base_uri": "https://localhost:8080/",
          "height": 355
        },
        "id": "mVn9ELnnD9f_",
        "outputId": "252d5489-f4b6-418a-c5db-61c18951630f"
      },
      "source": [
        "fig = plt.figure()\n",
        "axes1 = fig.add_axes([0,0,1,1])\n",
        "\n",
        "axes1.bar(x = ['1', '2', '3', '4'], height = rfm['F_Quartile'].value_counts())"
      ],
      "execution_count": null,
      "outputs": [
        {
          "output_type": "execute_result",
          "data": {
            "text/plain": [
              "<BarContainer object of 4 artists>"
            ]
          },
          "metadata": {},
          "execution_count": 36
        },
        {
          "output_type": "display_data",
          "data": {
            "image/png": "[encoded data removed]",
            "text/plain": [
              "<Figure size 432x288 with 1 Axes>"
            ]
          },
          "metadata": {}
        }
      ]
    },
    {
      "cell_type": "markdown",
      "metadata": {
        "id": "k7FwWwcqEW6A"
      },
      "source": [
        "Вывод: частота покупок F основной части поситителей \n",
        "\n",
        "находится выше среднего уровня"
      ]
    },
    {
      "cell_type": "code",
      "metadata": {
        "colab": {
          "base_uri": "https://localhost:8080/",
          "height": 355
        },
        "id": "NMJk1bo0EDsT",
        "outputId": "e51a54a3-89fa-41d7-ccd2-653749b7f59c"
      },
      "source": [
        "fig = plt.figure()\n",
        "axes1 = fig.add_axes([0,0,1,1])\n",
        "\n",
        "axes1.bar(x = ['1', '2', '3', '4'], height = rfm['M_Quartile'].value_counts())"
      ],
      "execution_count": null,
      "outputs": [
        {
          "output_type": "execute_result",
          "data": {
            "text/plain": [
              "<BarContainer object of 4 artists>"
            ]
          },
          "metadata": {},
          "execution_count": 37
        },
        {
          "output_type": "display_data",
          "data": {
            "image/png": "[encoded data removed]",
            "text/plain": [
              "<Figure size 432x288 with 1 Axes>"
            ]
          },
          "metadata": {}
        }
      ]
    },
    {
      "cell_type": "markdown",
      "metadata": {
        "id": "U6G50R7PEgHY"
      },
      "source": [
        "Вывод: распределение покупателей по сумме чека равномерное"
      ]
    }
  ]
}